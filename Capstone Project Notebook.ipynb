{
 "cells": [
  {
   "cell_type": "markdown",
   "metadata": {},
   "source": [
    "# Coursera IBM Capstone Project: selecting the best city for opening a vegan or vegetarian restaurant "
   ]
  },
  {
   "cell_type": "markdown",
   "metadata": {},
   "source": [
    "In this report, I will describe how I combined multiple data sources to build a scoring model that predicts which of the Dutch cities is best suited for opening a vegan or vegetarian restaurant. I’ve combined the following sources of data for this project: \n",
    "-\tThe Foursquare API, to retrieve information on existing restaurants per city. \n",
    "-\tThe government’s Central Bureau of Statistics (CBS) data, to retrieve regional demographic and economic information (1).\n",
    "-\tFunda in Business, the largest real estate website, for the average retail property price. (2)\n",
    "-\tThe National Institute for Public Health and the Environment (RIVM), for data on people’s eating habits (3).\n",
    "\n",
    "From this data, I’ve distilled 5 variables that add up to produce a suitability score for each city. This quantitative tool will not provide definitive answers as to which city is ‘best’ in an absolute sense. It will, however, provide future restaurant owners with a short-list of cities for more in-depth, qualitative analysis.\n"
   ]
  },
  {
   "cell_type": "code",
   "execution_count": 1,
   "metadata": {},
   "outputs": [],
   "source": [
    "#import all libraries\n",
    "import geocoder \n",
    "import pandas as pd\n",
    "import requests\n",
    "from bs4 import BeautifulSoup as bs\n",
    "import re #regular expressions\n",
    "import statistics as st\n",
    "import numpy as np\n",
    "from sklearn.preprocessing import MinMaxScaler\n",
    "import matplotlib as mpl \n",
    "import matplotlib.pyplot as plt\n",
    "%matplotlib inline \n",
    "import seaborn as sns\n",
    "import folium"
   ]
  },
  {
   "cell_type": "markdown",
   "metadata": {},
   "source": [
    "## 1. Create a list of Municipalities and their population\n"
   ]
  },
  {
   "cell_type": "code",
   "execution_count": 2,
   "metadata": {},
   "outputs": [
    {
     "data": {
      "text/html": [
       "<div>\n",
       "<style scoped>\n",
       "    .dataframe tbody tr th:only-of-type {\n",
       "        vertical-align: middle;\n",
       "    }\n",
       "\n",
       "    .dataframe tbody tr th {\n",
       "        vertical-align: top;\n",
       "    }\n",
       "\n",
       "    .dataframe thead th {\n",
       "        text-align: right;\n",
       "    }\n",
       "</style>\n",
       "<table border=\"1\" class=\"dataframe\">\n",
       "  <thead>\n",
       "    <tr style=\"text-align: right;\">\n",
       "      <th></th>\n",
       "      <th>Perioden</th>\n",
       "      <th>Regio's</th>\n",
       "      <th>Bevolking/Bevolkingssamenstelling op 1 januari/Totale bevolking (aantal)</th>\n",
       "      <th>Bevolking/Bevolkingssamenstelling op 1 januari/Leeftijd/Leeftijdsgroepen/Jonger dan 5 jaar (aantal)</th>\n",
       "      <th>Bevolking/Bevolkingssamenstelling op 1 januari/Leeftijd/Leeftijdsgroepen/5 tot 10 jaar (aantal)</th>\n",
       "      <th>Bevolking/Bevolkingssamenstelling op 1 januari/Leeftijd/Leeftijdsgroepen/10 tot 15 jaar (aantal)</th>\n",
       "      <th>Bevolking/Bevolkingssamenstelling op 1 januari/Leeftijd/Leeftijdsgroepen/15 tot 20 jaar (aantal)</th>\n",
       "      <th>Bevolking/Bevolkingssamenstelling op 1 januari/Leeftijd/Leeftijdsgroepen/20 tot 25 jaar (aantal)</th>\n",
       "      <th>Bevolking/Bevolkingssamenstelling op 1 januari/Leeftijd/Leeftijdsgroepen/25 tot 45 jaar (aantal)</th>\n",
       "      <th>Bevolking/Bevolkingssamenstelling op 1 januari/Leeftijd/Leeftijdsgroepen/45 tot 65 jaar (aantal)</th>\n",
       "      <th>Bevolking/Bevolkingssamenstelling op 1 januari/Leeftijd/Leeftijdsgroepen/65 tot 80 jaar (aantal)</th>\n",
       "      <th>Bevolking/Bevolkingssamenstelling op 1 januari/Leeftijd/Leeftijdsgroepen/80 jaar of ouder (aantal)</th>\n",
       "      <th>Bevolking/Bevolkingssamenstelling op 1 januari/Stedelijkheidsklasse/Zeer sterk stedelijk (aantal)</th>\n",
       "      <th>Bevolking/Bevolkingssamenstelling op 1 januari/Stedelijkheidsklasse/Sterk stedelijk (aantal)</th>\n",
       "      <th>Bevolking/Bevolkingssamenstelling op 1 januari/Stedelijkheidsklasse/Matig stedelijk (aantal)</th>\n",
       "      <th>Bevolking/Bevolkingssamenstelling op 1 januari/Stedelijkheidsklasse/Weinig stedelijk (aantal)</th>\n",
       "      <th>Bevolking/Bevolkingssamenstelling op 1 januari/Stedelijkheidsklasse/Niet stedelijk (aantal)</th>\n",
       "      <th>Inkomen en vermogen/Inkomen van particuliere huishoudens/Gemiddeld gestandaardiseerd inkomen/Particuliere huishoudens excl. studenten (1 000 euro)</th>\n",
       "    </tr>\n",
       "  </thead>\n",
       "  <tbody>\n",
       "    <tr>\n",
       "      <th>0</th>\n",
       "      <td>2020</td>\n",
       "      <td>Aa en Hunze</td>\n",
       "      <td>25445.0</td>\n",
       "      <td>946.0</td>\n",
       "      <td>1160.0</td>\n",
       "      <td>1354.0</td>\n",
       "      <td>1545.0</td>\n",
       "      <td>1079.0</td>\n",
       "      <td>4375.0</td>\n",
       "      <td>8249.0</td>\n",
       "      <td>5166.0</td>\n",
       "      <td>1571.0</td>\n",
       "      <td>0.0</td>\n",
       "      <td>0.0</td>\n",
       "      <td>0.0</td>\n",
       "      <td>4140.0</td>\n",
       "      <td>21310.0</td>\n",
       "      <td>NaN</td>\n",
       "    </tr>\n",
       "    <tr>\n",
       "      <th>1</th>\n",
       "      <td>2020</td>\n",
       "      <td>Aalburg</td>\n",
       "      <td>NaN</td>\n",
       "      <td>NaN</td>\n",
       "      <td>NaN</td>\n",
       "      <td>NaN</td>\n",
       "      <td>NaN</td>\n",
       "      <td>NaN</td>\n",
       "      <td>NaN</td>\n",
       "      <td>NaN</td>\n",
       "      <td>NaN</td>\n",
       "      <td>NaN</td>\n",
       "      <td>NaN</td>\n",
       "      <td>NaN</td>\n",
       "      <td>NaN</td>\n",
       "      <td>NaN</td>\n",
       "      <td>NaN</td>\n",
       "      <td>NaN</td>\n",
       "    </tr>\n",
       "    <tr>\n",
       "      <th>2</th>\n",
       "      <td>2020</td>\n",
       "      <td>Aalsmeer</td>\n",
       "      <td>31859.0</td>\n",
       "      <td>1432.0</td>\n",
       "      <td>1928.0</td>\n",
       "      <td>2217.0</td>\n",
       "      <td>2146.0</td>\n",
       "      <td>1606.0</td>\n",
       "      <td>7073.0</td>\n",
       "      <td>9545.0</td>\n",
       "      <td>4402.0</td>\n",
       "      <td>1510.0</td>\n",
       "      <td>0.0</td>\n",
       "      <td>10.0</td>\n",
       "      <td>16140.0</td>\n",
       "      <td>13030.0</td>\n",
       "      <td>2690.0</td>\n",
       "      <td>NaN</td>\n",
       "    </tr>\n",
       "    <tr>\n",
       "      <th>3</th>\n",
       "      <td>2020</td>\n",
       "      <td>Aalten</td>\n",
       "      <td>27121.0</td>\n",
       "      <td>1205.0</td>\n",
       "      <td>1353.0</td>\n",
       "      <td>1659.0</td>\n",
       "      <td>1689.0</td>\n",
       "      <td>1364.0</td>\n",
       "      <td>5438.0</td>\n",
       "      <td>8301.0</td>\n",
       "      <td>4641.0</td>\n",
       "      <td>1471.0</td>\n",
       "      <td>0.0</td>\n",
       "      <td>0.0</td>\n",
       "      <td>8490.0</td>\n",
       "      <td>10570.0</td>\n",
       "      <td>8060.0</td>\n",
       "      <td>NaN</td>\n",
       "    </tr>\n",
       "    <tr>\n",
       "      <th>4</th>\n",
       "      <td>2020</td>\n",
       "      <td>Ter Aar</td>\n",
       "      <td>NaN</td>\n",
       "      <td>NaN</td>\n",
       "      <td>NaN</td>\n",
       "      <td>NaN</td>\n",
       "      <td>NaN</td>\n",
       "      <td>NaN</td>\n",
       "      <td>NaN</td>\n",
       "      <td>NaN</td>\n",
       "      <td>NaN</td>\n",
       "      <td>NaN</td>\n",
       "      <td>NaN</td>\n",
       "      <td>NaN</td>\n",
       "      <td>NaN</td>\n",
       "      <td>NaN</td>\n",
       "      <td>NaN</td>\n",
       "      <td>NaN</td>\n",
       "    </tr>\n",
       "  </tbody>\n",
       "</table>\n",
       "</div>"
      ],
      "text/plain": [
       "   Perioden      Regio's  \\\n",
       "0      2020  Aa en Hunze   \n",
       "1      2020      Aalburg   \n",
       "2      2020     Aalsmeer   \n",
       "3      2020       Aalten   \n",
       "4      2020      Ter Aar   \n",
       "\n",
       "   Bevolking/Bevolkingssamenstelling op 1 januari/Totale bevolking (aantal)  \\\n",
       "0                                            25445.0                          \n",
       "1                                                NaN                          \n",
       "2                                            31859.0                          \n",
       "3                                            27121.0                          \n",
       "4                                                NaN                          \n",
       "\n",
       "   Bevolking/Bevolkingssamenstelling op 1 januari/Leeftijd/Leeftijdsgroepen/Jonger dan 5 jaar (aantal)  \\\n",
       "0                                              946.0                                                     \n",
       "1                                                NaN                                                     \n",
       "2                                             1432.0                                                     \n",
       "3                                             1205.0                                                     \n",
       "4                                                NaN                                                     \n",
       "\n",
       "   Bevolking/Bevolkingssamenstelling op 1 januari/Leeftijd/Leeftijdsgroepen/5 tot 10 jaar (aantal)  \\\n",
       "0                                             1160.0                                                 \n",
       "1                                                NaN                                                 \n",
       "2                                             1928.0                                                 \n",
       "3                                             1353.0                                                 \n",
       "4                                                NaN                                                 \n",
       "\n",
       "   Bevolking/Bevolkingssamenstelling op 1 januari/Leeftijd/Leeftijdsgroepen/10 tot 15 jaar (aantal)  \\\n",
       "0                                             1354.0                                                  \n",
       "1                                                NaN                                                  \n",
       "2                                             2217.0                                                  \n",
       "3                                             1659.0                                                  \n",
       "4                                                NaN                                                  \n",
       "\n",
       "   Bevolking/Bevolkingssamenstelling op 1 januari/Leeftijd/Leeftijdsgroepen/15 tot 20 jaar (aantal)  \\\n",
       "0                                             1545.0                                                  \n",
       "1                                                NaN                                                  \n",
       "2                                             2146.0                                                  \n",
       "3                                             1689.0                                                  \n",
       "4                                                NaN                                                  \n",
       "\n",
       "   Bevolking/Bevolkingssamenstelling op 1 januari/Leeftijd/Leeftijdsgroepen/20 tot 25 jaar (aantal)  \\\n",
       "0                                             1079.0                                                  \n",
       "1                                                NaN                                                  \n",
       "2                                             1606.0                                                  \n",
       "3                                             1364.0                                                  \n",
       "4                                                NaN                                                  \n",
       "\n",
       "   Bevolking/Bevolkingssamenstelling op 1 januari/Leeftijd/Leeftijdsgroepen/25 tot 45 jaar (aantal)  \\\n",
       "0                                             4375.0                                                  \n",
       "1                                                NaN                                                  \n",
       "2                                             7073.0                                                  \n",
       "3                                             5438.0                                                  \n",
       "4                                                NaN                                                  \n",
       "\n",
       "   Bevolking/Bevolkingssamenstelling op 1 januari/Leeftijd/Leeftijdsgroepen/45 tot 65 jaar (aantal)  \\\n",
       "0                                             8249.0                                                  \n",
       "1                                                NaN                                                  \n",
       "2                                             9545.0                                                  \n",
       "3                                             8301.0                                                  \n",
       "4                                                NaN                                                  \n",
       "\n",
       "   Bevolking/Bevolkingssamenstelling op 1 januari/Leeftijd/Leeftijdsgroepen/65 tot 80 jaar (aantal)  \\\n",
       "0                                             5166.0                                                  \n",
       "1                                                NaN                                                  \n",
       "2                                             4402.0                                                  \n",
       "3                                             4641.0                                                  \n",
       "4                                                NaN                                                  \n",
       "\n",
       "   Bevolking/Bevolkingssamenstelling op 1 januari/Leeftijd/Leeftijdsgroepen/80 jaar of ouder (aantal)  \\\n",
       "0                                             1571.0                                                    \n",
       "1                                                NaN                                                    \n",
       "2                                             1510.0                                                    \n",
       "3                                             1471.0                                                    \n",
       "4                                                NaN                                                    \n",
       "\n",
       "   Bevolking/Bevolkingssamenstelling op 1 januari/Stedelijkheidsklasse/Zeer sterk stedelijk (aantal)  \\\n",
       "0                                                0.0                                                   \n",
       "1                                                NaN                                                   \n",
       "2                                                0.0                                                   \n",
       "3                                                0.0                                                   \n",
       "4                                                NaN                                                   \n",
       "\n",
       "   Bevolking/Bevolkingssamenstelling op 1 januari/Stedelijkheidsklasse/Sterk stedelijk (aantal)  \\\n",
       "0                                                0.0                                              \n",
       "1                                                NaN                                              \n",
       "2                                               10.0                                              \n",
       "3                                                0.0                                              \n",
       "4                                                NaN                                              \n",
       "\n",
       "   Bevolking/Bevolkingssamenstelling op 1 januari/Stedelijkheidsklasse/Matig stedelijk (aantal)  \\\n",
       "0                                                0.0                                              \n",
       "1                                                NaN                                              \n",
       "2                                            16140.0                                              \n",
       "3                                             8490.0                                              \n",
       "4                                                NaN                                              \n",
       "\n",
       "   Bevolking/Bevolkingssamenstelling op 1 januari/Stedelijkheidsklasse/Weinig stedelijk (aantal)  \\\n",
       "0                                             4140.0                                               \n",
       "1                                                NaN                                               \n",
       "2                                            13030.0                                               \n",
       "3                                            10570.0                                               \n",
       "4                                                NaN                                               \n",
       "\n",
       "   Bevolking/Bevolkingssamenstelling op 1 januari/Stedelijkheidsklasse/Niet stedelijk (aantal)  \\\n",
       "0                                            21310.0                                             \n",
       "1                                                NaN                                             \n",
       "2                                             2690.0                                             \n",
       "3                                             8060.0                                             \n",
       "4                                                NaN                                             \n",
       "\n",
       "   Inkomen en vermogen/Inkomen van particuliere huishoudens/Gemiddeld gestandaardiseerd inkomen/Particuliere huishoudens excl. studenten (1 000 euro)  \n",
       "0                                                NaN                                                                                                   \n",
       "1                                                NaN                                                                                                   \n",
       "2                                                NaN                                                                                                   \n",
       "3                                                NaN                                                                                                   \n",
       "4                                                NaN                                                                                                   "
      ]
     },
     "execution_count": 2,
     "metadata": {},
     "output_type": "execute_result"
    }
   ],
   "source": [
    "#open CBS Statline data to obtain citie names and inhabitants\n",
    "cbs = pd.read_csv('Regionale_kerncijfers_Nederland_05012021_213538.csv', delimiter=';')\n",
    "cbs.head()"
   ]
  },
  {
   "cell_type": "code",
   "execution_count": 3,
   "metadata": {},
   "outputs": [],
   "source": [
    "#rename columns\n",
    "cbs.rename(columns = {'Bevolking/Bevolkingssamenstelling op 1 januari/Totale bevolking (aantal)' : 'Population'}, inplace=True)\n",
    "cbs.rename(columns = {\"Regio's\" : 'Municipalities'}, inplace=True)\n",
    "\n",
    "#drop columns and NaN values\n",
    "cbs.drop('Perioden', axis =1, inplace=True)\n",
    "cbs.dropna(subset = ['Population'], axis = 0, inplace=True)\n",
    "\n",
    "#change values to int\n",
    "cbs.Population = cbs.Population.astype('int')"
   ]
  },
  {
   "cell_type": "code",
   "execution_count": 4,
   "metadata": {},
   "outputs": [],
   "source": [
    "#filter out all municipalities below 100.000 inhabitants\n",
    "mask = cbs['Population'] >= 100000\n",
    "cbs = cbs[mask]\n",
    "\n",
    "\n"
   ]
  },
  {
   "cell_type": "code",
   "execution_count": 5,
   "metadata": {},
   "outputs": [],
   "source": [
    "cbs.sort_values('Population', ascending=False, inplace=True)\n",
    "\n",
    "#remove the municipality that is not also a city\n",
    "cbs = cbs[cbs['Municipalities'] != 'Westland']\n"
   ]
  },
  {
   "cell_type": "code",
   "execution_count": 6,
   "metadata": {},
   "outputs": [],
   "source": [
    "#extract the useful coloumns to a new dataframe (df)\n",
    "df = cbs[['Municipalities', 'Population']]"
   ]
  },
  {
   "cell_type": "code",
   "execution_count": 7,
   "metadata": {},
   "outputs": [],
   "source": [
    "df.reset_index(inplace=True, drop= True)"
   ]
  },
  {
   "cell_type": "code",
   "execution_count": 8,
   "metadata": {},
   "outputs": [
    {
     "name": "stderr",
     "output_type": "stream",
     "text": [
      "<ipython-input-8-a218dad6a749>:2: SettingWithCopyWarning: \n",
      "A value is trying to be set on a copy of a slice from a DataFrame.\n",
      "Try using .loc[row_indexer,col_indexer] = value instead\n",
      "\n",
      "See the caveats in the documentation: https://pandas.pydata.org/pandas-docs/stable/user_guide/indexing.html#returning-a-view-versus-a-copy\n",
      "  df['Municipalities'] = df['Municipalities'].str.replace('gemeente', '')\n",
      "<ipython-input-8-a218dad6a749>:3: SettingWithCopyWarning: \n",
      "A value is trying to be set on a copy of a slice from a DataFrame.\n",
      "Try using .loc[row_indexer,col_indexer] = value instead\n",
      "\n",
      "See the caveats in the documentation: https://pandas.pydata.org/pandas-docs/stable/user_guide/indexing.html#returning-a-view-versus-a-copy\n",
      "  df['Municipalities'] = df['Municipalities'].str.replace(r\"\\(\\)\",\"\")\n",
      "<ipython-input-8-a218dad6a749>:5: SettingWithCopyWarning: \n",
      "A value is trying to be set on a copy of a slice from a DataFrame.\n",
      "Try using .loc[row_indexer,col_indexer] = value instead\n",
      "\n",
      "See the caveats in the documentation: https://pandas.pydata.org/pandas-docs/stable/user_guide/indexing.html#returning-a-view-versus-a-copy\n",
      "  df['Municipalities'] = df['Municipalities'].str.strip()\n"
     ]
    }
   ],
   "source": [
    "# remove unnecvessary parts from the names\n",
    "df['Municipalities'] = df['Municipalities'].str.replace('gemeente', '')\n",
    "df['Municipalities'] = df['Municipalities'].str.replace(r\"\\(\\)\",\"\")\n",
    "#Applying the strip function to get rid of any ending whitespace characters\n",
    "df['Municipalities'] = df['Municipalities'].str.strip()                                              \n"
   ]
  },
  {
   "cell_type": "markdown",
   "metadata": {},
   "source": [
    "## 2. Add location data for the cities in the dataframe"
   ]
  },
  {
   "cell_type": "raw",
   "metadata": {},
   "source": [
    "# I disabled this code to prevent constant queries to the arcgis API\n",
    "\n",
    "#get latitude and longitude\n",
    "df['Latitude'] = None\n",
    "df['Longitude'] = None\n",
    "\n",
    "# initialize your variable to None\n",
    "for i, mc in enumerate(df['Municipalities']):\n",
    "    lat_lng_coords = None\n",
    "    \n",
    "    # loop until you get the coordinates\n",
    "    while(lat_lng_coords is None):\n",
    "        g = geocoder.arcgis('{}'.format(mc))\n",
    "        lat_lng_coords = g.latlng\n",
    "\n",
    "    df.loc[i, 'Latitude'] = lat_lng_coords[0]\n",
    "    df.loc[i, 'Longitude'] = lat_lng_coords[1]\n",
    "    print(\"{} imported\".format(mc))"
   ]
  },
  {
   "cell_type": "code",
   "execution_count": 9,
   "metadata": {},
   "outputs": [],
   "source": [
    "#save to new df to csv\n",
    "df.to_csv('df.csv')"
   ]
  },
  {
   "cell_type": "code",
   "execution_count": 10,
   "metadata": {},
   "outputs": [
    {
     "data": {
      "text/plain": [
       "(31, 2)"
      ]
     },
     "execution_count": 10,
     "metadata": {},
     "output_type": "execute_result"
    }
   ],
   "source": [
    "# load saved file to prevent continues get requests from ArcGis\n",
    "df = pd.read_csv('df.csv', index_col = 0)\n",
    "df.shape"
   ]
  },
  {
   "cell_type": "markdown",
   "metadata": {},
   "source": [
    "## 3. Getting Vegeterian Venue data from Foursquare"
   ]
  },
  {
   "cell_type": "code",
   "execution_count": 11,
   "metadata": {},
   "outputs": [],
   "source": [
    "# foursquare credentials\n",
    "CLIENT_ID = 'BBTDTWA2S3FONQ2KK5BBRIS2VHF0CMFLMFMZ22YETQGGQDUN' # your Foursquare ID\n",
    "CLIENT_SECRET = 'KHX3XJ1OYF2PGHC4YGPP1DP3QHWQ3JWYNA2C1DQX2JFEY2YB' # your Foursquare Secret\n",
    "VERSION = '20180605' # Foursquare API version\n",
    "LIMIT = 500 # A default Foursquare API limit value\n",
    "CATEGORY = '4bf58dd8d48988d1d3941735' # Vegetarian / Vegan Restaurant\n",
    "radius = 10000\n",
    "#latitude = 52.36993 #amsterdam\n",
    "#longitude = 4.90788 #amsterdam"
   ]
  },
  {
   "cell_type": "code",
   "execution_count": 12,
   "metadata": {},
   "outputs": [],
   "source": [
    "#define a function that creates a new dataframe (nearby_venues) that list all vegeterian venues for each city\n",
    "def getNearbyVenues(municipalities, latitudes, longitudes):\n",
    "    \n",
    "    venues_list=[]\n",
    "    for muni, lat, lng in zip(municipalities, latitudes, longitudes):\n",
    "        print(muni)\n",
    "            \n",
    "        # create the API request URL\n",
    "        url = 'https://api.foursquare.com/v2/venues/explore?client_id={}&client_secret={}&ll={},{}&v={}&radius={}&limit={}&categoryId={}'.format(\n",
    "            CLIENT_ID, \n",
    "            CLIENT_SECRET, \n",
    "            lat, \n",
    "            lng, \n",
    "            VERSION, \n",
    "            radius, \n",
    "            LIMIT, \n",
    "            CATEGORY)\n",
    "            \n",
    "        # make the GET request\n",
    "        results = requests.get(url).json()[\"response\"]['groups'][0]['items']\n",
    "        \n",
    "        # return only relevant information for each nearby venue\n",
    "        venues_list.append([(\n",
    "            muni, \n",
    "            lat, \n",
    "            lng, \n",
    "            v['venue']['name'], \n",
    "            v['venue']['location']['lat'], \n",
    "            v['venue']['location']['lng']) for v in results])\n",
    "\n",
    "    nearby_venues = pd.DataFrame([item for venue_list in venues_list for item in venue_list])\n",
    "    nearby_venues.columns = ['Municipalities', \n",
    "                  'Latitude', \n",
    "                  'Longitude', \n",
    "                  'Venue', \n",
    "                  'Venue Latitude', \n",
    "                  'Venue Longitude']\n",
    "    \n",
    "    return(nearby_venues)"
   ]
  },
  {
   "cell_type": "raw",
   "metadata": {},
   "source": [
    "# I disabled this code to prevent constant queries to the Foursquare API\n",
    "\n",
    "veg_venues = getNearbyVenues(municipalities=df['Municipalities'],\n",
    "                                   latitudes=df['Latitude'],\n",
    "                                   longitudes=df['Longitude'])"
   ]
  },
  {
   "cell_type": "raw",
   "metadata": {},
   "source": [
    "veg_venues.to_csv('veg_venues.csv')"
   ]
  },
  {
   "cell_type": "code",
   "execution_count": 13,
   "metadata": {},
   "outputs": [],
   "source": [
    "#load saved vegetarian venues\n",
    "veg_venues = pd.read_csv('veg_venues.csv', index_col = 0)"
   ]
  },
  {
   "cell_type": "code",
   "execution_count": 14,
   "metadata": {},
   "outputs": [
    {
     "data": {
      "text/html": [
       "<div>\n",
       "<style scoped>\n",
       "    .dataframe tbody tr th:only-of-type {\n",
       "        vertical-align: middle;\n",
       "    }\n",
       "\n",
       "    .dataframe tbody tr th {\n",
       "        vertical-align: top;\n",
       "    }\n",
       "\n",
       "    .dataframe thead th {\n",
       "        text-align: right;\n",
       "    }\n",
       "</style>\n",
       "<table border=\"1\" class=\"dataframe\">\n",
       "  <thead>\n",
       "    <tr style=\"text-align: right;\">\n",
       "      <th></th>\n",
       "      <th>Municipalities</th>\n",
       "      <th>Latitude</th>\n",
       "      <th>Longitude</th>\n",
       "      <th>Venue</th>\n",
       "      <th>Venue Latitude</th>\n",
       "      <th>Venue Longitude</th>\n",
       "    </tr>\n",
       "  </thead>\n",
       "  <tbody>\n",
       "    <tr>\n",
       "      <th>0</th>\n",
       "      <td>Amsterdam</td>\n",
       "      <td>52.36993</td>\n",
       "      <td>4.90788</td>\n",
       "      <td>Restaurant de Waaghals</td>\n",
       "      <td>52.357151</td>\n",
       "      <td>4.888920</td>\n",
       "    </tr>\n",
       "    <tr>\n",
       "      <th>1</th>\n",
       "      <td>Amsterdam</td>\n",
       "      <td>52.36993</td>\n",
       "      <td>4.90788</td>\n",
       "      <td>Vegan Junk Food Bar</td>\n",
       "      <td>52.357107</td>\n",
       "      <td>4.891184</td>\n",
       "    </tr>\n",
       "    <tr>\n",
       "      <th>2</th>\n",
       "      <td>Amsterdam</td>\n",
       "      <td>52.36993</td>\n",
       "      <td>4.90788</td>\n",
       "      <td>Mr. &amp; Mrs. Watson</td>\n",
       "      <td>52.355306</td>\n",
       "      <td>4.929017</td>\n",
       "    </tr>\n",
       "    <tr>\n",
       "      <th>3</th>\n",
       "      <td>Amsterdam</td>\n",
       "      <td>52.36993</td>\n",
       "      <td>4.90788</td>\n",
       "      <td>Le Sud</td>\n",
       "      <td>52.383254</td>\n",
       "      <td>4.886161</td>\n",
       "    </tr>\n",
       "    <tr>\n",
       "      <th>4</th>\n",
       "      <td>Amsterdam</td>\n",
       "      <td>52.36993</td>\n",
       "      <td>4.90788</td>\n",
       "      <td>Vegan Junk Food Bar</td>\n",
       "      <td>52.366391</td>\n",
       "      <td>4.891563</td>\n",
       "    </tr>\n",
       "  </tbody>\n",
       "</table>\n",
       "</div>"
      ],
      "text/plain": [
       "  Municipalities  Latitude  Longitude                   Venue  Venue Latitude  \\\n",
       "0      Amsterdam  52.36993    4.90788  Restaurant de Waaghals       52.357151   \n",
       "1      Amsterdam  52.36993    4.90788     Vegan Junk Food Bar       52.357107   \n",
       "2      Amsterdam  52.36993    4.90788       Mr. & Mrs. Watson       52.355306   \n",
       "3      Amsterdam  52.36993    4.90788                  Le Sud       52.383254   \n",
       "4      Amsterdam  52.36993    4.90788     Vegan Junk Food Bar       52.366391   \n",
       "\n",
       "   Venue Longitude  \n",
       "0         4.888920  \n",
       "1         4.891184  \n",
       "2         4.929017  \n",
       "3         4.886161  \n",
       "4         4.891563  "
      ]
     },
     "execution_count": 14,
     "metadata": {},
     "output_type": "execute_result"
    }
   ],
   "source": [
    "veg_venues.head()"
   ]
  },
  {
   "cell_type": "code",
   "execution_count": 15,
   "metadata": {},
   "outputs": [
    {
     "data": {
      "text/plain": [
       "287"
      ]
     },
     "execution_count": 15,
     "metadata": {},
     "output_type": "execute_result"
    }
   ],
   "source": [
    "#amount of veg restaurants\n",
    "veg_venues.shape[0]"
   ]
  },
  {
   "cell_type": "code",
   "execution_count": 16,
   "metadata": {},
   "outputs": [],
   "source": [
    "# Let's check how many venues were returned for each Municipality\n",
    "count = veg_venues.groupby('Municipalities').count().sort_values(by = 'Venue', ascending=False)"
   ]
  },
  {
   "cell_type": "code",
   "execution_count": 17,
   "metadata": {},
   "outputs": [],
   "source": [
    "#clean table\n",
    "count.drop(labels = ['Venue Latitude', 'Venue Longitude', 'Latitude', 'Longitude'], axis=1, inplace=True)\n",
    "count.rename(columns = { 'Venue' : 'Count'}, inplace=True)"
   ]
  },
  {
   "cell_type": "code",
   "execution_count": 18,
   "metadata": {},
   "outputs": [
    {
     "data": {
      "text/html": [
       "<div>\n",
       "<style scoped>\n",
       "    .dataframe tbody tr th:only-of-type {\n",
       "        vertical-align: middle;\n",
       "    }\n",
       "\n",
       "    .dataframe tbody tr th {\n",
       "        vertical-align: top;\n",
       "    }\n",
       "\n",
       "    .dataframe thead th {\n",
       "        text-align: right;\n",
       "    }\n",
       "</style>\n",
       "<table border=\"1\" class=\"dataframe\">\n",
       "  <thead>\n",
       "    <tr style=\"text-align: right;\">\n",
       "      <th></th>\n",
       "      <th>Count</th>\n",
       "    </tr>\n",
       "    <tr>\n",
       "      <th>Municipalities</th>\n",
       "      <th></th>\n",
       "    </tr>\n",
       "  </thead>\n",
       "  <tbody>\n",
       "    <tr>\n",
       "      <th>Amsterdam</th>\n",
       "      <td>91</td>\n",
       "    </tr>\n",
       "    <tr>\n",
       "      <th>Rotterdam</th>\n",
       "      <td>26</td>\n",
       "    </tr>\n",
       "    <tr>\n",
       "      <th>Zaanstad</th>\n",
       "      <td>22</td>\n",
       "    </tr>\n",
       "    <tr>\n",
       "      <th>Delft</th>\n",
       "      <td>18</td>\n",
       "    </tr>\n",
       "    <tr>\n",
       "      <th>'s-Gravenhage</th>\n",
       "      <td>17</td>\n",
       "    </tr>\n",
       "  </tbody>\n",
       "</table>\n",
       "</div>"
      ],
      "text/plain": [
       "                Count\n",
       "Municipalities       \n",
       "Amsterdam          91\n",
       "Rotterdam          26\n",
       "Zaanstad           22\n",
       "Delft              18\n",
       "'s-Gravenhage      17"
      ]
     },
     "execution_count": 18,
     "metadata": {},
     "output_type": "execute_result"
    }
   ],
   "source": [
    "count.head(5)"
   ]
  },
  {
   "cell_type": "code",
   "execution_count": 19,
   "metadata": {},
   "outputs": [],
   "source": [
    "#add counts to origirnal df\n",
    "df = count.merge(df, how='left', on = 'Municipalities')"
   ]
  },
  {
   "cell_type": "markdown",
   "metadata": {},
   "source": [
    "## 4. Get total restauraunts per city from CBS"
   ]
  },
  {
   "cell_type": "code",
   "execution_count": 20,
   "metadata": {},
   "outputs": [
    {
     "data": {
      "text/html": [
       "<div>\n",
       "<style scoped>\n",
       "    .dataframe tbody tr th:only-of-type {\n",
       "        vertical-align: middle;\n",
       "    }\n",
       "\n",
       "    .dataframe tbody tr th {\n",
       "        vertical-align: top;\n",
       "    }\n",
       "\n",
       "    .dataframe thead th {\n",
       "        text-align: right;\n",
       "    }\n",
       "</style>\n",
       "<table border=\"1\" class=\"dataframe\">\n",
       "  <thead>\n",
       "    <tr style=\"text-align: right;\">\n",
       "      <th></th>\n",
       "      <th>Perioden</th>\n",
       "      <th>Regio's</th>\n",
       "      <th>Horeca/Restaurants/Aantal restaurants/Binnen 1 km (aantal)</th>\n",
       "      <th>Horeca/Restaurants/Aantal restaurants/Binnen 3 km (aantal)</th>\n",
       "      <th>Horeca/Restaurants/Aantal restaurants/Binnen 5 km (aantal)</th>\n",
       "    </tr>\n",
       "  </thead>\n",
       "  <tbody>\n",
       "    <tr>\n",
       "      <th>0</th>\n",
       "      <td>2018</td>\n",
       "      <td>Aa en Hunze</td>\n",
       "      <td>2.0</td>\n",
       "      <td>4.9</td>\n",
       "      <td>11.0</td>\n",
       "    </tr>\n",
       "    <tr>\n",
       "      <th>1</th>\n",
       "      <td>2019</td>\n",
       "      <td>Aa en Hunze</td>\n",
       "      <td>1.9</td>\n",
       "      <td>5.1</td>\n",
       "      <td>11.1</td>\n",
       "    </tr>\n",
       "    <tr>\n",
       "      <th>2</th>\n",
       "      <td>2018</td>\n",
       "      <td>Aalburg</td>\n",
       "      <td>0.6</td>\n",
       "      <td>1.2</td>\n",
       "      <td>3.7</td>\n",
       "    </tr>\n",
       "    <tr>\n",
       "      <th>3</th>\n",
       "      <td>2019</td>\n",
       "      <td>Aalburg</td>\n",
       "      <td>NaN</td>\n",
       "      <td>NaN</td>\n",
       "      <td>NaN</td>\n",
       "    </tr>\n",
       "    <tr>\n",
       "      <th>4</th>\n",
       "      <td>2018</td>\n",
       "      <td>Aalsmeer</td>\n",
       "      <td>4.0</td>\n",
       "      <td>15.4</td>\n",
       "      <td>36.7</td>\n",
       "    </tr>\n",
       "    <tr>\n",
       "      <th>...</th>\n",
       "      <td>...</td>\n",
       "      <td>...</td>\n",
       "      <td>...</td>\n",
       "      <td>...</td>\n",
       "      <td>...</td>\n",
       "    </tr>\n",
       "    <tr>\n",
       "      <th>985</th>\n",
       "      <td>2019</td>\n",
       "      <td>Zwartewaterland</td>\n",
       "      <td>2.4</td>\n",
       "      <td>4.6</td>\n",
       "      <td>8.7</td>\n",
       "    </tr>\n",
       "    <tr>\n",
       "      <th>986</th>\n",
       "      <td>2018</td>\n",
       "      <td>Zwijndrecht</td>\n",
       "      <td>4.8</td>\n",
       "      <td>25.2</td>\n",
       "      <td>70.2</td>\n",
       "    </tr>\n",
       "    <tr>\n",
       "      <th>987</th>\n",
       "      <td>2019</td>\n",
       "      <td>Zwijndrecht</td>\n",
       "      <td>4.6</td>\n",
       "      <td>24.3</td>\n",
       "      <td>68.7</td>\n",
       "    </tr>\n",
       "    <tr>\n",
       "      <th>988</th>\n",
       "      <td>2018</td>\n",
       "      <td>Zwolle</td>\n",
       "      <td>6.9</td>\n",
       "      <td>51.9</td>\n",
       "      <td>102.5</td>\n",
       "    </tr>\n",
       "    <tr>\n",
       "      <th>989</th>\n",
       "      <td>2019</td>\n",
       "      <td>Zwolle</td>\n",
       "      <td>7.3</td>\n",
       "      <td>52.9</td>\n",
       "      <td>105.3</td>\n",
       "    </tr>\n",
       "  </tbody>\n",
       "</table>\n",
       "<p>990 rows × 5 columns</p>\n",
       "</div>"
      ],
      "text/plain": [
       "     Perioden          Regio's  \\\n",
       "0        2018      Aa en Hunze   \n",
       "1        2019      Aa en Hunze   \n",
       "2        2018          Aalburg   \n",
       "3        2019          Aalburg   \n",
       "4        2018         Aalsmeer   \n",
       "..        ...              ...   \n",
       "985      2019  Zwartewaterland   \n",
       "986      2018      Zwijndrecht   \n",
       "987      2019      Zwijndrecht   \n",
       "988      2018           Zwolle   \n",
       "989      2019           Zwolle   \n",
       "\n",
       "     Horeca/Restaurants/Aantal restaurants/Binnen 1 km (aantal)  \\\n",
       "0                                                  2.0            \n",
       "1                                                  1.9            \n",
       "2                                                  0.6            \n",
       "3                                                  NaN            \n",
       "4                                                  4.0            \n",
       "..                                                 ...            \n",
       "985                                                2.4            \n",
       "986                                                4.8            \n",
       "987                                                4.6            \n",
       "988                                                6.9            \n",
       "989                                                7.3            \n",
       "\n",
       "     Horeca/Restaurants/Aantal restaurants/Binnen 3 km (aantal)  \\\n",
       "0                                                  4.9            \n",
       "1                                                  5.1            \n",
       "2                                                  1.2            \n",
       "3                                                  NaN            \n",
       "4                                                 15.4            \n",
       "..                                                 ...            \n",
       "985                                                4.6            \n",
       "986                                               25.2            \n",
       "987                                               24.3            \n",
       "988                                               51.9            \n",
       "989                                               52.9            \n",
       "\n",
       "     Horeca/Restaurants/Aantal restaurants/Binnen 5 km (aantal)  \n",
       "0                                                 11.0           \n",
       "1                                                 11.1           \n",
       "2                                                  3.7           \n",
       "3                                                  NaN           \n",
       "4                                                 36.7           \n",
       "..                                                 ...           \n",
       "985                                                8.7           \n",
       "986                                               70.2           \n",
       "987                                               68.7           \n",
       "988                                              102.5           \n",
       "989                                              105.3           \n",
       "\n",
       "[990 rows x 5 columns]"
      ]
     },
     "execution_count": 20,
     "metadata": {},
     "output_type": "execute_result"
    }
   ],
   "source": [
    "rest=pd.read_csv('Nabijheid_voorzieningen.csv', delimiter = ';')\n",
    "rest"
   ]
  },
  {
   "cell_type": "code",
   "execution_count": 21,
   "metadata": {},
   "outputs": [],
   "source": [
    "#match names from CBS Statline to my Dataframe\n",
    "rest[\"Regio's\"] = rest[\"Regio's\"].str.replace('gemeente', '')\n",
    "rest[\"Regio's\"] = rest[\"Regio's\"].str.replace(r\"\\(\\)\",\"\")\n",
    "rest[\"Regio's\"] = rest[\"Regio's\"].str.strip()"
   ]
  },
  {
   "cell_type": "code",
   "execution_count": 22,
   "metadata": {},
   "outputs": [],
   "source": [
    "# create a list to use for filtering\n",
    "top_steden =[]\n",
    "\n",
    "for stad in df['Municipalities']:\n",
    "    top_steden.append(stad)"
   ]
  },
  {
   "cell_type": "code",
   "execution_count": 23,
   "metadata": {},
   "outputs": [
    {
     "data": {
      "text/plain": [
       "['Amsterdam',\n",
       " 'Rotterdam',\n",
       " 'Zaanstad',\n",
       " 'Delft',\n",
       " \"'s-Gravenhage\",\n",
       " 'Utrecht',\n",
       " 'Haarlemmermeer',\n",
       " \"'s-Hertogenbosch\",\n",
       " 'Eindhoven',\n",
       " 'Enschede',\n",
       " 'Leiden',\n",
       " 'Groningen',\n",
       " 'Almere',\n",
       " 'Nijmegen',\n",
       " 'Breda',\n",
       " 'Dordrecht',\n",
       " 'Haarlem',\n",
       " 'Leeuwarden',\n",
       " 'Deventer',\n",
       " 'Maastricht',\n",
       " 'Arnhem',\n",
       " 'Tilburg',\n",
       " 'Alkmaar',\n",
       " 'Zoetermeer',\n",
       " 'Apeldoorn',\n",
       " 'Amersfoort',\n",
       " 'Alphen aan den Rijn',\n",
       " 'Venlo',\n",
       " 'Zwolle',\n",
       " 'Emmen']"
      ]
     },
     "execution_count": 23,
     "metadata": {},
     "output_type": "execute_result"
    }
   ],
   "source": [
    "top_steden"
   ]
  },
  {
   "cell_type": "code",
   "execution_count": 24,
   "metadata": {},
   "outputs": [],
   "source": [
    "filt = rest[\"Regio's\"].isin(top_steden)\n",
    "rest_filt = rest[filt]"
   ]
  },
  {
   "cell_type": "code",
   "execution_count": 25,
   "metadata": {},
   "outputs": [
    {
     "data": {
      "text/plain": [
       "['Amsterdam',\n",
       " 'Rotterdam',\n",
       " 'Zaanstad',\n",
       " 'Delft',\n",
       " \"'s-Gravenhage\",\n",
       " 'Utrecht',\n",
       " 'Haarlemmermeer',\n",
       " \"'s-Hertogenbosch\",\n",
       " 'Eindhoven',\n",
       " 'Enschede',\n",
       " 'Leiden',\n",
       " 'Groningen',\n",
       " 'Almere',\n",
       " 'Nijmegen',\n",
       " 'Breda',\n",
       " 'Dordrecht',\n",
       " 'Haarlem',\n",
       " 'Leeuwarden',\n",
       " 'Deventer',\n",
       " 'Maastricht',\n",
       " 'Arnhem',\n",
       " 'Tilburg',\n",
       " 'Alkmaar',\n",
       " 'Zoetermeer',\n",
       " 'Apeldoorn',\n",
       " 'Amersfoort',\n",
       " 'Alphen aan den Rijn',\n",
       " 'Venlo',\n",
       " 'Zwolle',\n",
       " 'Emmen']"
      ]
     },
     "execution_count": 25,
     "metadata": {},
     "output_type": "execute_result"
    }
   ],
   "source": [
    "top_steden"
   ]
  },
  {
   "cell_type": "code",
   "execution_count": 26,
   "metadata": {},
   "outputs": [
    {
     "data": {
      "text/html": [
       "<div>\n",
       "<style scoped>\n",
       "    .dataframe tbody tr th:only-of-type {\n",
       "        vertical-align: middle;\n",
       "    }\n",
       "\n",
       "    .dataframe tbody tr th {\n",
       "        vertical-align: top;\n",
       "    }\n",
       "\n",
       "    .dataframe thead th {\n",
       "        text-align: right;\n",
       "    }\n",
       "</style>\n",
       "<table border=\"1\" class=\"dataframe\">\n",
       "  <thead>\n",
       "    <tr style=\"text-align: right;\">\n",
       "      <th></th>\n",
       "      <th>Perioden</th>\n",
       "      <th>Regio's</th>\n",
       "      <th>Horeca/Restaurants/Aantal restaurants/Binnen 1 km (aantal)</th>\n",
       "      <th>Horeca/Restaurants/Aantal restaurants/Binnen 3 km (aantal)</th>\n",
       "      <th>Horeca/Restaurants/Aantal restaurants/Binnen 5 km (aantal)</th>\n",
       "    </tr>\n",
       "  </thead>\n",
       "  <tbody>\n",
       "    <tr>\n",
       "      <th>20</th>\n",
       "      <td>2018</td>\n",
       "      <td>Alkmaar</td>\n",
       "      <td>10.7</td>\n",
       "      <td>59.0</td>\n",
       "      <td>92.3</td>\n",
       "    </tr>\n",
       "    <tr>\n",
       "      <th>21</th>\n",
       "      <td>2019</td>\n",
       "      <td>Alkmaar</td>\n",
       "      <td>10.8</td>\n",
       "      <td>59.0</td>\n",
       "      <td>92.4</td>\n",
       "    </tr>\n",
       "    <tr>\n",
       "      <th>24</th>\n",
       "      <td>2018</td>\n",
       "      <td>Almere</td>\n",
       "      <td>4.1</td>\n",
       "      <td>29.2</td>\n",
       "      <td>61.7</td>\n",
       "    </tr>\n",
       "    <tr>\n",
       "      <th>25</th>\n",
       "      <td>2019</td>\n",
       "      <td>Almere</td>\n",
       "      <td>4.2</td>\n",
       "      <td>29.9</td>\n",
       "      <td>62.7</td>\n",
       "    </tr>\n",
       "    <tr>\n",
       "      <th>26</th>\n",
       "      <td>2018</td>\n",
       "      <td>Alphen aan den Rijn</td>\n",
       "      <td>3.8</td>\n",
       "      <td>25.0</td>\n",
       "      <td>47.7</td>\n",
       "    </tr>\n",
       "    <tr>\n",
       "      <th>27</th>\n",
       "      <td>2019</td>\n",
       "      <td>Alphen aan den Rijn</td>\n",
       "      <td>4.0</td>\n",
       "      <td>27.0</td>\n",
       "      <td>49.9</td>\n",
       "    </tr>\n",
       "    <tr>\n",
       "      <th>36</th>\n",
       "      <td>2018</td>\n",
       "      <td>Amersfoort</td>\n",
       "      <td>9.7</td>\n",
       "      <td>66.6</td>\n",
       "      <td>110.5</td>\n",
       "    </tr>\n",
       "    <tr>\n",
       "      <th>37</th>\n",
       "      <td>2019</td>\n",
       "      <td>Amersfoort</td>\n",
       "      <td>9.8</td>\n",
       "      <td>68.4</td>\n",
       "      <td>113.5</td>\n",
       "    </tr>\n",
       "    <tr>\n",
       "      <th>40</th>\n",
       "      <td>2018</td>\n",
       "      <td>Amsterdam</td>\n",
       "      <td>49.5</td>\n",
       "      <td>441.0</td>\n",
       "      <td>993.7</td>\n",
       "    </tr>\n",
       "    <tr>\n",
       "      <th>41</th>\n",
       "      <td>2019</td>\n",
       "      <td>Amsterdam</td>\n",
       "      <td>51.3</td>\n",
       "      <td>448.4</td>\n",
       "      <td>998.7</td>\n",
       "    </tr>\n",
       "  </tbody>\n",
       "</table>\n",
       "</div>"
      ],
      "text/plain": [
       "    Perioden              Regio's  \\\n",
       "20      2018              Alkmaar   \n",
       "21      2019              Alkmaar   \n",
       "24      2018               Almere   \n",
       "25      2019               Almere   \n",
       "26      2018  Alphen aan den Rijn   \n",
       "27      2019  Alphen aan den Rijn   \n",
       "36      2018           Amersfoort   \n",
       "37      2019           Amersfoort   \n",
       "40      2018            Amsterdam   \n",
       "41      2019            Amsterdam   \n",
       "\n",
       "    Horeca/Restaurants/Aantal restaurants/Binnen 1 km (aantal)  \\\n",
       "20                                               10.7            \n",
       "21                                               10.8            \n",
       "24                                                4.1            \n",
       "25                                                4.2            \n",
       "26                                                3.8            \n",
       "27                                                4.0            \n",
       "36                                                9.7            \n",
       "37                                                9.8            \n",
       "40                                               49.5            \n",
       "41                                               51.3            \n",
       "\n",
       "    Horeca/Restaurants/Aantal restaurants/Binnen 3 km (aantal)  \\\n",
       "20                                               59.0            \n",
       "21                                               59.0            \n",
       "24                                               29.2            \n",
       "25                                               29.9            \n",
       "26                                               25.0            \n",
       "27                                               27.0            \n",
       "36                                               66.6            \n",
       "37                                               68.4            \n",
       "40                                              441.0            \n",
       "41                                              448.4            \n",
       "\n",
       "    Horeca/Restaurants/Aantal restaurants/Binnen 5 km (aantal)  \n",
       "20                                               92.3           \n",
       "21                                               92.4           \n",
       "24                                               61.7           \n",
       "25                                               62.7           \n",
       "26                                               47.7           \n",
       "27                                               49.9           \n",
       "36                                              110.5           \n",
       "37                                              113.5           \n",
       "40                                              993.7           \n",
       "41                                              998.7           "
      ]
     },
     "execution_count": 26,
     "metadata": {},
     "output_type": "execute_result"
    }
   ],
   "source": [
    "rest_filt.head(10)"
   ]
  },
  {
   "cell_type": "code",
   "execution_count": 27,
   "metadata": {},
   "outputs": [],
   "source": [
    "#clean data\n",
    "rest_filt = rest_filt[rest_filt['Perioden'] != 2018]\n",
    "rest_filt.drop(columns = ['Horeca/Restaurants/Aantal restaurants/Binnen 1 km (aantal)', 'Horeca/Restaurants/Aantal restaurants/Binnen 3 km (aantal)', 'Perioden' ], inplace=True)\n",
    "rest_filt.reset_index(drop=True, inplace=True)\n",
    "rest_filt.rename(columns = {\"Regio's\" : 'Municipalities'}, inplace=True)\n"
   ]
  },
  {
   "cell_type": "code",
   "execution_count": 28,
   "metadata": {},
   "outputs": [
    {
     "data": {
      "text/html": [
       "<div>\n",
       "<style scoped>\n",
       "    .dataframe tbody tr th:only-of-type {\n",
       "        vertical-align: middle;\n",
       "    }\n",
       "\n",
       "    .dataframe tbody tr th {\n",
       "        vertical-align: top;\n",
       "    }\n",
       "\n",
       "    .dataframe thead th {\n",
       "        text-align: right;\n",
       "    }\n",
       "</style>\n",
       "<table border=\"1\" class=\"dataframe\">\n",
       "  <thead>\n",
       "    <tr style=\"text-align: right;\">\n",
       "      <th></th>\n",
       "      <th>Municipalities</th>\n",
       "      <th>Horeca/Restaurants/Aantal restaurants/Binnen 5 km (aantal)</th>\n",
       "    </tr>\n",
       "  </thead>\n",
       "  <tbody>\n",
       "    <tr>\n",
       "      <th>0</th>\n",
       "      <td>Alkmaar</td>\n",
       "      <td>92.4</td>\n",
       "    </tr>\n",
       "    <tr>\n",
       "      <th>1</th>\n",
       "      <td>Almere</td>\n",
       "      <td>62.7</td>\n",
       "    </tr>\n",
       "    <tr>\n",
       "      <th>2</th>\n",
       "      <td>Alphen aan den Rijn</td>\n",
       "      <td>49.9</td>\n",
       "    </tr>\n",
       "    <tr>\n",
       "      <th>3</th>\n",
       "      <td>Amersfoort</td>\n",
       "      <td>113.5</td>\n",
       "    </tr>\n",
       "    <tr>\n",
       "      <th>4</th>\n",
       "      <td>Amsterdam</td>\n",
       "      <td>998.7</td>\n",
       "    </tr>\n",
       "  </tbody>\n",
       "</table>\n",
       "</div>"
      ],
      "text/plain": [
       "        Municipalities  \\\n",
       "0              Alkmaar   \n",
       "1               Almere   \n",
       "2  Alphen aan den Rijn   \n",
       "3           Amersfoort   \n",
       "4            Amsterdam   \n",
       "\n",
       "   Horeca/Restaurants/Aantal restaurants/Binnen 5 km (aantal)  \n",
       "0                                               92.4           \n",
       "1                                               62.7           \n",
       "2                                               49.9           \n",
       "3                                              113.5           \n",
       "4                                              998.7           "
      ]
     },
     "execution_count": 28,
     "metadata": {},
     "output_type": "execute_result"
    }
   ],
   "source": [
    "rest_filt.head()"
   ]
  },
  {
   "cell_type": "code",
   "execution_count": 29,
   "metadata": {},
   "outputs": [],
   "source": [
    "#merge with main df\n",
    "df = df.merge(rest_filt, how= 'left')\n",
    "#rename variable to TotalVenues\n",
    "df.rename(columns = {'Count' : 'VegVenues', 'Horeca/Restaurants/Aantal restaurants/Binnen 5 km (aantal)' : 'TotalVenues' }, inplace=True)\n"
   ]
  },
  {
   "cell_type": "code",
   "execution_count": 30,
   "metadata": {},
   "outputs": [
    {
     "data": {
      "text/html": [
       "<div>\n",
       "<style scoped>\n",
       "    .dataframe tbody tr th:only-of-type {\n",
       "        vertical-align: middle;\n",
       "    }\n",
       "\n",
       "    .dataframe tbody tr th {\n",
       "        vertical-align: top;\n",
       "    }\n",
       "\n",
       "    .dataframe thead th {\n",
       "        text-align: right;\n",
       "    }\n",
       "</style>\n",
       "<table border=\"1\" class=\"dataframe\">\n",
       "  <thead>\n",
       "    <tr style=\"text-align: right;\">\n",
       "      <th></th>\n",
       "      <th>Municipalities</th>\n",
       "      <th>VegVenues</th>\n",
       "      <th>Population</th>\n",
       "      <th>TotalVenues</th>\n",
       "    </tr>\n",
       "  </thead>\n",
       "  <tbody>\n",
       "    <tr>\n",
       "      <th>0</th>\n",
       "      <td>Amsterdam</td>\n",
       "      <td>91</td>\n",
       "      <td>872757</td>\n",
       "      <td>998.7</td>\n",
       "    </tr>\n",
       "    <tr>\n",
       "      <th>1</th>\n",
       "      <td>Rotterdam</td>\n",
       "      <td>26</td>\n",
       "      <td>651157</td>\n",
       "      <td>335.4</td>\n",
       "    </tr>\n",
       "    <tr>\n",
       "      <th>2</th>\n",
       "      <td>Zaanstad</td>\n",
       "      <td>22</td>\n",
       "      <td>156794</td>\n",
       "      <td>54.5</td>\n",
       "    </tr>\n",
       "    <tr>\n",
       "      <th>3</th>\n",
       "      <td>Delft</td>\n",
       "      <td>18</td>\n",
       "      <td>103595</td>\n",
       "      <td>166.9</td>\n",
       "    </tr>\n",
       "    <tr>\n",
       "      <th>4</th>\n",
       "      <td>'s-Gravenhage</td>\n",
       "      <td>17</td>\n",
       "      <td>545838</td>\n",
       "      <td>509.3</td>\n",
       "    </tr>\n",
       "  </tbody>\n",
       "</table>\n",
       "</div>"
      ],
      "text/plain": [
       "  Municipalities  VegVenues  Population  TotalVenues\n",
       "0      Amsterdam         91      872757        998.7\n",
       "1      Rotterdam         26      651157        335.4\n",
       "2       Zaanstad         22      156794         54.5\n",
       "3          Delft         18      103595        166.9\n",
       "4  's-Gravenhage         17      545838        509.3"
      ]
     },
     "execution_count": 30,
     "metadata": {},
     "output_type": "execute_result"
    }
   ],
   "source": [
    "df.head()"
   ]
  },
  {
   "cell_type": "code",
   "execution_count": 31,
   "metadata": {},
   "outputs": [],
   "source": [
    "# Calculate the amount of vegeterian places corrected for population size \n",
    "df['PeoplePerVegVenue'] = df['Population'] / df['VegVenues']\n",
    "# Calculate the amount of total restaurants corrected for population size \n",
    "df['PeoplePerRestaurant'] = df['Population'] / df['TotalVenues'] \n",
    "\n"
   ]
  },
  {
   "cell_type": "code",
   "execution_count": 32,
   "metadata": {},
   "outputs": [],
   "source": [
    "df['PeoplePerVegVenue'] = df['PeoplePerVegVenue'].round().astype(int)\n",
    "df['PeoplePerRestaurant'] = df['PeoplePerRestaurant'].round().astype(int)\n"
   ]
  },
  {
   "cell_type": "code",
   "execution_count": 33,
   "metadata": {},
   "outputs": [
    {
     "data": {
      "text/html": [
       "<div>\n",
       "<style scoped>\n",
       "    .dataframe tbody tr th:only-of-type {\n",
       "        vertical-align: middle;\n",
       "    }\n",
       "\n",
       "    .dataframe tbody tr th {\n",
       "        vertical-align: top;\n",
       "    }\n",
       "\n",
       "    .dataframe thead th {\n",
       "        text-align: right;\n",
       "    }\n",
       "</style>\n",
       "<table border=\"1\" class=\"dataframe\">\n",
       "  <thead>\n",
       "    <tr style=\"text-align: right;\">\n",
       "      <th></th>\n",
       "      <th>Municipalities</th>\n",
       "      <th>VegVenues</th>\n",
       "      <th>Population</th>\n",
       "      <th>TotalVenues</th>\n",
       "      <th>PeoplePerVegVenue</th>\n",
       "      <th>PeoplePerRestaurant</th>\n",
       "    </tr>\n",
       "  </thead>\n",
       "  <tbody>\n",
       "    <tr>\n",
       "      <th>0</th>\n",
       "      <td>Amsterdam</td>\n",
       "      <td>91</td>\n",
       "      <td>872757</td>\n",
       "      <td>998.7</td>\n",
       "      <td>9591</td>\n",
       "      <td>874</td>\n",
       "    </tr>\n",
       "    <tr>\n",
       "      <th>1</th>\n",
       "      <td>Rotterdam</td>\n",
       "      <td>26</td>\n",
       "      <td>651157</td>\n",
       "      <td>335.4</td>\n",
       "      <td>25044</td>\n",
       "      <td>1941</td>\n",
       "    </tr>\n",
       "    <tr>\n",
       "      <th>2</th>\n",
       "      <td>Zaanstad</td>\n",
       "      <td>22</td>\n",
       "      <td>156794</td>\n",
       "      <td>54.5</td>\n",
       "      <td>7127</td>\n",
       "      <td>2877</td>\n",
       "    </tr>\n",
       "    <tr>\n",
       "      <th>3</th>\n",
       "      <td>Delft</td>\n",
       "      <td>18</td>\n",
       "      <td>103595</td>\n",
       "      <td>166.9</td>\n",
       "      <td>5755</td>\n",
       "      <td>621</td>\n",
       "    </tr>\n",
       "    <tr>\n",
       "      <th>4</th>\n",
       "      <td>'s-Gravenhage</td>\n",
       "      <td>17</td>\n",
       "      <td>545838</td>\n",
       "      <td>509.3</td>\n",
       "      <td>32108</td>\n",
       "      <td>1072</td>\n",
       "    </tr>\n",
       "  </tbody>\n",
       "</table>\n",
       "</div>"
      ],
      "text/plain": [
       "  Municipalities  VegVenues  Population  TotalVenues  PeoplePerVegVenue  \\\n",
       "0      Amsterdam         91      872757        998.7               9591   \n",
       "1      Rotterdam         26      651157        335.4              25044   \n",
       "2       Zaanstad         22      156794         54.5               7127   \n",
       "3          Delft         18      103595        166.9               5755   \n",
       "4  's-Gravenhage         17      545838        509.3              32108   \n",
       "\n",
       "   PeoplePerRestaurant  \n",
       "0                  874  \n",
       "1                 1941  \n",
       "2                 2877  \n",
       "3                  621  \n",
       "4                 1072  "
      ]
     },
     "execution_count": 33,
     "metadata": {},
     "output_type": "execute_result"
    }
   ],
   "source": [
    "df.head()"
   ]
  },
  {
   "cell_type": "markdown",
   "metadata": {},
   "source": [
    "## 5. Figuring out the amount of Tourists in each Municipality"
   ]
  },
  {
   "cell_type": "markdown",
   "metadata": {},
   "source": [
    "CBS statline does not have the amount of tourists per city, only per province.\n",
    "I'm looking for a proxy of tourism\n",
    "Amount of jobs in hospitality per municipality --> best proxy\n",
    "\n"
   ]
  },
  {
   "cell_type": "code",
   "execution_count": 34,
   "metadata": {},
   "outputs": [
    {
     "data": {
      "text/html": [
       "<div>\n",
       "<style scoped>\n",
       "    .dataframe tbody tr th:only-of-type {\n",
       "        vertical-align: middle;\n",
       "    }\n",
       "\n",
       "    .dataframe tbody tr th {\n",
       "        vertical-align: top;\n",
       "    }\n",
       "\n",
       "    .dataframe thead th {\n",
       "        text-align: right;\n",
       "    }\n",
       "</style>\n",
       "<table border=\"1\" class=\"dataframe\">\n",
       "  <thead>\n",
       "    <tr style=\"text-align: right;\">\n",
       "      <th></th>\n",
       "      <th>Bedrijfstakken/branches (SBI 2008)</th>\n",
       "      <th>Perioden</th>\n",
       "      <th>Regio's</th>\n",
       "      <th>Banen van werknemers in december (x 1 000)</th>\n",
       "    </tr>\n",
       "  </thead>\n",
       "  <tbody>\n",
       "    <tr>\n",
       "      <th>0</th>\n",
       "      <td>I Horeca</td>\n",
       "      <td>2019 december*</td>\n",
       "      <td>Aa en Hunze</td>\n",
       "      <td>0.8</td>\n",
       "    </tr>\n",
       "    <tr>\n",
       "      <th>1</th>\n",
       "      <td>I Horeca</td>\n",
       "      <td>2019 december*</td>\n",
       "      <td>Aalburg</td>\n",
       "      <td>.</td>\n",
       "    </tr>\n",
       "    <tr>\n",
       "      <th>2</th>\n",
       "      <td>I Horeca</td>\n",
       "      <td>2019 december*</td>\n",
       "      <td>Aalsmeer</td>\n",
       "      <td>0.6</td>\n",
       "    </tr>\n",
       "    <tr>\n",
       "      <th>3</th>\n",
       "      <td>I Horeca</td>\n",
       "      <td>2019 december*</td>\n",
       "      <td>Aalten</td>\n",
       "      <td>0.4</td>\n",
       "    </tr>\n",
       "    <tr>\n",
       "      <th>4</th>\n",
       "      <td>I Horeca</td>\n",
       "      <td>2019 december*</td>\n",
       "      <td>Abcoude</td>\n",
       "      <td>.</td>\n",
       "    </tr>\n",
       "  </tbody>\n",
       "</table>\n",
       "</div>"
      ],
      "text/plain": [
       "  Bedrijfstakken/branches (SBI 2008)         Perioden      Regio's  \\\n",
       "0                            I Horeca  2019 december*  Aa en Hunze   \n",
       "1                            I Horeca  2019 december*      Aalburg   \n",
       "2                            I Horeca  2019 december*     Aalsmeer   \n",
       "3                            I Horeca  2019 december*       Aalten   \n",
       "4                            I Horeca  2019 december*      Abcoude   \n",
       "\n",
       "  Banen van werknemers in december (x 1 000)  \n",
       "0                                        0.8  \n",
       "1                                          .  \n",
       "2                                        0.6  \n",
       "3                                        0.4  \n",
       "4                                          .  "
      ]
     },
     "execution_count": 34,
     "metadata": {},
     "output_type": "execute_result"
    }
   ],
   "source": [
    "#import data from CBS Statline\n",
    "tourism = pd.read_csv('Banen_Horeca_gemeenten.csv', delimiter= ';')\n",
    "tourism.head()\n",
    "\n",
    "\n",
    "\n"
   ]
  },
  {
   "cell_type": "code",
   "execution_count": 35,
   "metadata": {},
   "outputs": [],
   "source": [
    "#match names from CBS Statline to my Dataframe\n",
    "tourism[\"Regio's\"] = tourism[\"Regio's\"].str.replace('gemeente', '')\n",
    "tourism[\"Regio's\"] = tourism[\"Regio's\"].str.replace(r\"\\(\\)\",\"\")\n",
    "tourism[\"Regio's\"] = tourism[\"Regio's\"].str.strip()"
   ]
  },
  {
   "cell_type": "code",
   "execution_count": 36,
   "metadata": {},
   "outputs": [],
   "source": [
    "#filter out unwanted municipalities\n",
    "filt2 = tourism[\"Regio's\"].isin(top_steden)\n",
    "tourism = tourism[filt2]"
   ]
  },
  {
   "cell_type": "code",
   "execution_count": 37,
   "metadata": {},
   "outputs": [],
   "source": [
    "#data cleaning and manipulation\n",
    "tourism.drop(columns = ['Bedrijfstakken/branches (SBI 2008) ', 'Perioden'], inplace=True )\n",
    "tourism.rename(columns = {'Banen van werknemers in december (x 1 000)' : 'JobsInHospitality', \"Regio's\" : \"Municipalities\"}, inplace=True)\n",
    "tourism['JobsInHospitality'] = tourism['JobsInHospitality'].astype(float)\n",
    "tourism.loc[:, 'JobsInHospitality'] = tourism.loc[:, 'JobsInHospitality'] * 1000\n",
    "tourism.JobsInHospitality = tourism.JobsInHospitality.astype(int)"
   ]
  },
  {
   "cell_type": "code",
   "execution_count": 38,
   "metadata": {},
   "outputs": [],
   "source": [
    "#merge Tourism data with main df\n",
    "df = df.merge(tourism, how = 'left')"
   ]
  },
  {
   "cell_type": "code",
   "execution_count": 39,
   "metadata": {},
   "outputs": [],
   "source": [
    "# Correction for population size. \n",
    "#The smaller the number the more touristic the area, \n",
    "#because the amount of people a waiter serves is not explained by the local population.\n",
    "df['JobsInHospitalityDensity'] = round(df['Population'] / df['JobsInHospitality'], 1)"
   ]
  },
  {
   "cell_type": "code",
   "execution_count": 40,
   "metadata": {},
   "outputs": [
    {
     "data": {
      "text/html": [
       "<div>\n",
       "<style scoped>\n",
       "    .dataframe tbody tr th:only-of-type {\n",
       "        vertical-align: middle;\n",
       "    }\n",
       "\n",
       "    .dataframe tbody tr th {\n",
       "        vertical-align: top;\n",
       "    }\n",
       "\n",
       "    .dataframe thead th {\n",
       "        text-align: right;\n",
       "    }\n",
       "</style>\n",
       "<table border=\"1\" class=\"dataframe\">\n",
       "  <thead>\n",
       "    <tr style=\"text-align: right;\">\n",
       "      <th></th>\n",
       "      <th>Municipalities</th>\n",
       "      <th>VegVenues</th>\n",
       "      <th>Population</th>\n",
       "      <th>TotalVenues</th>\n",
       "      <th>PeoplePerVegVenue</th>\n",
       "      <th>PeoplePerRestaurant</th>\n",
       "      <th>JobsInHospitality</th>\n",
       "      <th>JobsInHospitalityDensity</th>\n",
       "    </tr>\n",
       "  </thead>\n",
       "  <tbody>\n",
       "    <tr>\n",
       "      <th>0</th>\n",
       "      <td>Amsterdam</td>\n",
       "      <td>91</td>\n",
       "      <td>872757</td>\n",
       "      <td>998.7</td>\n",
       "      <td>9591</td>\n",
       "      <td>874</td>\n",
       "      <td>52700</td>\n",
       "      <td>16.6</td>\n",
       "    </tr>\n",
       "    <tr>\n",
       "      <th>1</th>\n",
       "      <td>Rotterdam</td>\n",
       "      <td>26</td>\n",
       "      <td>651157</td>\n",
       "      <td>335.4</td>\n",
       "      <td>25044</td>\n",
       "      <td>1941</td>\n",
       "      <td>19600</td>\n",
       "      <td>33.2</td>\n",
       "    </tr>\n",
       "    <tr>\n",
       "      <th>2</th>\n",
       "      <td>Zaanstad</td>\n",
       "      <td>22</td>\n",
       "      <td>156794</td>\n",
       "      <td>54.5</td>\n",
       "      <td>7127</td>\n",
       "      <td>2877</td>\n",
       "      <td>2400</td>\n",
       "      <td>65.3</td>\n",
       "    </tr>\n",
       "    <tr>\n",
       "      <th>3</th>\n",
       "      <td>Delft</td>\n",
       "      <td>18</td>\n",
       "      <td>103595</td>\n",
       "      <td>166.9</td>\n",
       "      <td>5755</td>\n",
       "      <td>621</td>\n",
       "      <td>2800</td>\n",
       "      <td>37.0</td>\n",
       "    </tr>\n",
       "    <tr>\n",
       "      <th>4</th>\n",
       "      <td>'s-Gravenhage</td>\n",
       "      <td>17</td>\n",
       "      <td>545838</td>\n",
       "      <td>509.3</td>\n",
       "      <td>32108</td>\n",
       "      <td>1072</td>\n",
       "      <td>13500</td>\n",
       "      <td>40.4</td>\n",
       "    </tr>\n",
       "  </tbody>\n",
       "</table>\n",
       "</div>"
      ],
      "text/plain": [
       "  Municipalities  VegVenues  Population  TotalVenues  PeoplePerVegVenue  \\\n",
       "0      Amsterdam         91      872757        998.7               9591   \n",
       "1      Rotterdam         26      651157        335.4              25044   \n",
       "2       Zaanstad         22      156794         54.5               7127   \n",
       "3          Delft         18      103595        166.9               5755   \n",
       "4  's-Gravenhage         17      545838        509.3              32108   \n",
       "\n",
       "   PeoplePerRestaurant  JobsInHospitality  JobsInHospitalityDensity  \n",
       "0                  874              52700                      16.6  \n",
       "1                 1941              19600                      33.2  \n",
       "2                 2877               2400                      65.3  \n",
       "3                  621               2800                      37.0  \n",
       "4                 1072              13500                      40.4  "
      ]
     },
     "execution_count": 40,
     "metadata": {},
     "output_type": "execute_result"
    }
   ],
   "source": [
    "df.head()\n"
   ]
  },
  {
   "cell_type": "markdown",
   "metadata": {},
   "source": [
    "## 6. Scraping an estate agent site for retail rent prices"
   ]
  },
  {
   "cell_type": "raw",
   "metadata": {},
   "source": [
    "# I decided to drop Haarlemmermeer this municipality does not a big city in it suitable for a vegan restaurant\n",
    "df = df[df['Municipalities'] != 'Haarlemmermeer']\n",
    "\n",
    "#Create new_df t o store values\n",
    "retail_prices = pd.DataFrame(columns = ['Municipalities', 'RetailPriceM2'])\n",
    "retail_prices['Municipalities'] = df['Municipalities']\n",
    "\n",
    "# Create a list of Municipalities that match with the city names of 'Funda in Business'\n",
    "funda_steden = list(df['Municipalities'])\n",
    "funda_steden[2] = 'gemeente-zaanstad'\n",
    "funda_steden[4] = 'Den-Haag'\n",
    "funda_steden[6] = 'Den-Bosch'\n",
    "funda_steden[-4] = 'alphen-aan-den-rijn'"
   ]
  },
  {
   "cell_type": "raw",
   "metadata": {},
   "source": [
    "#create a for loop to scrape prices from site and save it to a list\n",
    "mean_list= []\n",
    "\n",
    "#version for all cities page 1\n",
    "for city in funda_steden:\n",
    "    url = f'https://www.fundainbusiness.nl/winkel/{city}/huur/perm2perjaar/p1/'\n",
    "    headers = {'user-agent' : 'Mozilla/5.0 (Windows NT 10.0; Win64; x64) AppleWebKit/537.36 (KHTML, like Gecko) Chrome/87.0.4280.141 Safari/537.36'}\n",
    "    r = requests.get(url, headers=headers) # load the webpage content\n",
    "    soup = bs(r.content) #convert to BeautifulSoup object\n",
    "    price = soup.find(\"main\", id= \"content\")\n",
    "    span = price.find_all('span', class_='search-result-price')\n",
    "    \n",
    "    lis = []\n",
    "    #formula for getting the mean retail price per m2 as float value\n",
    "    for n in range(len(span)):\n",
    "        if span[n].text.split()[1].isnumeric():\n",
    "            price =int(span[n].text.split()[1])\n",
    "            lis.append(price)\n",
    "    mean = round(sum(lis) / len(lis),1)  \n",
    "    mean_list.append(mean)\n",
    "    print(f'{city} processed!')"
   ]
  },
  {
   "cell_type": "raw",
   "metadata": {},
   "source": [
    "#create a for loop to scrape prices from site and save it to a list\n",
    "\n",
    "mean_list2= []\n",
    "\n",
    "#version for all cities page 2\n",
    "for city in funda_steden:\n",
    "    url = f'https://www.fundainbusiness.nl/winkel/{city}/huur/perm2perjaar/p2/'\n",
    "    headers = {'user-agent' : 'Mozilla/5.0 (Windows NT 10.0; Win64; x64) AppleWebKit/537.36 (KHTML, like Gecko) Chrome/87.0.4280.141 Safari/537.36'}\n",
    "    r = requests.get(url, headers=headers) # load the webpage content\n",
    "    soup = bs(r.content) #convert to BeautifulSoup object\n",
    "    price = soup.find(\"main\", id= \"content\")\n",
    "    span = price.find_all('span', class_='search-result-price')\n",
    "    \n",
    "    lis = []\n",
    "    #formula for getting the mean retail price per m2 as float value\n",
    "    for n in range(len(span)):\n",
    "        if span[n].text.split()[1].isnumeric():\n",
    "            price =int(span[n].text.split()[1])\n",
    "            lis.append(price)\n",
    "   \n",
    "    try:    \n",
    "        mean = round(sum(lis) / len(lis),1)\n",
    "    except ZeroDivisionError as err:\n",
    "        pass\n",
    "    mean_list2.append(mean)\n",
    "       \n",
    "    print(f'{city} processed!')"
   ]
  },
  {
   "cell_type": "raw",
   "metadata": {},
   "source": [
    "#add list data to retail prices df\n",
    "retail_prices.loc[:,'RetailPriceM2'] = mean_list\n",
    "retail_prices.loc[:,'RetailPriceM2P2'] = mean_list2\n",
    "retail_prices"
   ]
  },
  {
   "cell_type": "raw",
   "metadata": {},
   "source": [
    "#calculate mean retail price per city\n",
    "retail_prices.loc[:,'RetailPriceM2Mean'] = (retail_prices.loc[:,'RetailPriceM2'] + retail_prices.loc[:,'RetailPriceM2P2'])/2\n",
    "retail_prices.drop(columns = ['RetailPriceM2', 'RetailPriceM2P2'], inplace = True)"
   ]
  },
  {
   "cell_type": "raw",
   "metadata": {},
   "source": [
    "#merge retail price with main df\n",
    "df = df.merge(retail_prices, how= 'left')\n",
    "df.rename(columns ={'RetailPriceM2Mean': 'RetailPriceM2' }, inplace=True)\n",
    "df"
   ]
  },
  {
   "cell_type": "raw",
   "metadata": {},
   "source": [
    "#safe main df with new data to csv so I don't have to scrape the website all the time.\n",
    "df.to_csv('df2.csv')"
   ]
  },
  {
   "cell_type": "code",
   "execution_count": 41,
   "metadata": {},
   "outputs": [],
   "source": [
    "df = pd.read_csv('df2.csv', index_col=0)"
   ]
  },
  {
   "cell_type": "code",
   "execution_count": 42,
   "metadata": {},
   "outputs": [
    {
     "data": {
      "text/html": [
       "<div>\n",
       "<style scoped>\n",
       "    .dataframe tbody tr th:only-of-type {\n",
       "        vertical-align: middle;\n",
       "    }\n",
       "\n",
       "    .dataframe tbody tr th {\n",
       "        vertical-align: top;\n",
       "    }\n",
       "\n",
       "    .dataframe thead th {\n",
       "        text-align: right;\n",
       "    }\n",
       "</style>\n",
       "<table border=\"1\" class=\"dataframe\">\n",
       "  <thead>\n",
       "    <tr style=\"text-align: right;\">\n",
       "      <th></th>\n",
       "      <th>Municipalities</th>\n",
       "      <th>VegVenues</th>\n",
       "      <th>Population</th>\n",
       "      <th>Latitude</th>\n",
       "      <th>Longitude</th>\n",
       "      <th>TotalVenues</th>\n",
       "      <th>PeoplePerVegVenue</th>\n",
       "      <th>PeoplePerRestaurant</th>\n",
       "      <th>JobsInHospitality</th>\n",
       "      <th>JobsInHospitalityDensity</th>\n",
       "      <th>RetailPriceM2</th>\n",
       "    </tr>\n",
       "  </thead>\n",
       "  <tbody>\n",
       "    <tr>\n",
       "      <th>0</th>\n",
       "      <td>Amsterdam</td>\n",
       "      <td>91</td>\n",
       "      <td>872757</td>\n",
       "      <td>52.36993</td>\n",
       "      <td>4.90788</td>\n",
       "      <td>998.7</td>\n",
       "      <td>9591</td>\n",
       "      <td>874</td>\n",
       "      <td>52700</td>\n",
       "      <td>16.6</td>\n",
       "      <td>342.10</td>\n",
       "    </tr>\n",
       "    <tr>\n",
       "      <th>1</th>\n",
       "      <td>Rotterdam</td>\n",
       "      <td>26</td>\n",
       "      <td>651157</td>\n",
       "      <td>51.91438</td>\n",
       "      <td>4.48716</td>\n",
       "      <td>335.4</td>\n",
       "      <td>25044</td>\n",
       "      <td>1941</td>\n",
       "      <td>19600</td>\n",
       "      <td>33.2</td>\n",
       "      <td>207.85</td>\n",
       "    </tr>\n",
       "    <tr>\n",
       "      <th>2</th>\n",
       "      <td>Zaanstad</td>\n",
       "      <td>22</td>\n",
       "      <td>156794</td>\n",
       "      <td>52.44953</td>\n",
       "      <td>4.80934</td>\n",
       "      <td>54.5</td>\n",
       "      <td>7127</td>\n",
       "      <td>2877</td>\n",
       "      <td>2400</td>\n",
       "      <td>65.3</td>\n",
       "      <td>198.55</td>\n",
       "    </tr>\n",
       "    <tr>\n",
       "      <th>3</th>\n",
       "      <td>Delft</td>\n",
       "      <td>18</td>\n",
       "      <td>103595</td>\n",
       "      <td>52.00878</td>\n",
       "      <td>4.36534</td>\n",
       "      <td>166.9</td>\n",
       "      <td>5755</td>\n",
       "      <td>621</td>\n",
       "      <td>2800</td>\n",
       "      <td>37.0</td>\n",
       "      <td>215.85</td>\n",
       "    </tr>\n",
       "    <tr>\n",
       "      <th>4</th>\n",
       "      <td>'s-Gravenhage</td>\n",
       "      <td>17</td>\n",
       "      <td>545838</td>\n",
       "      <td>52.08409</td>\n",
       "      <td>4.31732</td>\n",
       "      <td>509.3</td>\n",
       "      <td>32108</td>\n",
       "      <td>1072</td>\n",
       "      <td>13500</td>\n",
       "      <td>40.4</td>\n",
       "      <td>284.35</td>\n",
       "    </tr>\n",
       "  </tbody>\n",
       "</table>\n",
       "</div>"
      ],
      "text/plain": [
       "  Municipalities  VegVenues  Population  Latitude  Longitude  TotalVenues  \\\n",
       "0      Amsterdam         91      872757  52.36993    4.90788        998.7   \n",
       "1      Rotterdam         26      651157  51.91438    4.48716        335.4   \n",
       "2       Zaanstad         22      156794  52.44953    4.80934         54.5   \n",
       "3          Delft         18      103595  52.00878    4.36534        166.9   \n",
       "4  's-Gravenhage         17      545838  52.08409    4.31732        509.3   \n",
       "\n",
       "   PeoplePerVegVenue  PeoplePerRestaurant  JobsInHospitality  \\\n",
       "0               9591                  874              52700   \n",
       "1              25044                 1941              19600   \n",
       "2               7127                 2877               2400   \n",
       "3               5755                  621               2800   \n",
       "4              32108                 1072              13500   \n",
       "\n",
       "   JobsInHospitalityDensity  RetailPriceM2  \n",
       "0                      16.6         342.10  \n",
       "1                      33.2         207.85  \n",
       "2                      65.3         198.55  \n",
       "3                      37.0         215.85  \n",
       "4                      40.4         284.35  "
      ]
     },
     "execution_count": 42,
     "metadata": {},
     "output_type": "execute_result"
    }
   ],
   "source": [
    "df.head()"
   ]
  },
  {
   "cell_type": "markdown",
   "metadata": {},
   "source": [
    "## 7. Fruit & Vegetable consumption through education"
   ]
  },
  {
   "cell_type": "code",
   "execution_count": 43,
   "metadata": {},
   "outputs": [],
   "source": [
    "#load education data per municipality\n",
    "\n",
    "education = pd.read_csv('Regionale_kerncijfers_opleidingsniveau.csv', delimiter = ';')"
   ]
  },
  {
   "cell_type": "code",
   "execution_count": 44,
   "metadata": {},
   "outputs": [],
   "source": [
    "#match names from CBS Statline to my Dataframe\n",
    "education[\"Regio's\"] = education[\"Regio's\"].str.replace('gemeente', '')\n",
    "education[\"Regio's\"] = education[\"Regio's\"].str.replace(r\"\\(\\)\",\"\")\n",
    "education[\"Regio's\"] = education[\"Regio's\"].str.strip()"
   ]
  },
  {
   "cell_type": "code",
   "execution_count": 45,
   "metadata": {},
   "outputs": [],
   "source": [
    "#rename variables\n",
    "education.rename(columns = {'Onderwijs/Naar woongemeente/Gediplomeerden/Voortgezet onderwijs (aantal)': \"VO\",\n",
    "                      'Onderwijs/Naar woongemeente/Gediplomeerden/Middelbaar beroepsonderwijs (aantal)' : 'MBO',\n",
    "                      'Onderwijs/Naar woongemeente/Gediplomeerden/Hoger beroepsonderwijs bachelor (aantal)' : 'HBO',\n",
    "                      'Onderwijs/Naar woongemeente/Gediplomeerden/Wo master/doctoraal (aantal)' : 'WO',\n",
    "                      \"Regio's\" : 'Municipalities'\n",
    "                     }, inplace = True)"
   ]
  },
  {
   "cell_type": "code",
   "execution_count": null,
   "metadata": {},
   "outputs": [],
   "source": []
  },
  {
   "cell_type": "code",
   "execution_count": 46,
   "metadata": {},
   "outputs": [],
   "source": [
    "#calculate % Higher education from absolute numbers\n",
    "education['Total'] = education['VO'] + education['MBO'] + education['HBO'] + education['WO']\n",
    "\n",
    "education['VOp'] = round(education['VO'] / education['Total'] * 100,1)\n",
    "education['MBOp'] = round(education['MBO'] / education['Total'] * 100,1)\n",
    "education['HBOp'] = round(education['HBO'] / education['Total'] * 100,1)\n",
    "education['WOp'] = round(education['WO'] / education['Total'] * 100,1)\n",
    "\n",
    "education['HigherEdu'] = education['HBOp'] + education['WOp']"
   ]
  },
  {
   "cell_type": "code",
   "execution_count": 47,
   "metadata": {},
   "outputs": [],
   "source": [
    "#filter out unwanted municipalities\n",
    "filt = education[\"Municipalities\"].isin(df[\"Municipalities\"])\n",
    "education = education[filt]"
   ]
  },
  {
   "cell_type": "code",
   "execution_count": 48,
   "metadata": {},
   "outputs": [
    {
     "data": {
      "text/plain": [
       "(29, 12)"
      ]
     },
     "execution_count": 48,
     "metadata": {},
     "output_type": "execute_result"
    }
   ],
   "source": [
    "education.shape"
   ]
  },
  {
   "cell_type": "code",
   "execution_count": 49,
   "metadata": {},
   "outputs": [],
   "source": [
    "education.sort_values(by = 'HigherEdu', ascending = False, inplace = True)"
   ]
  },
  {
   "cell_type": "code",
   "execution_count": 50,
   "metadata": {},
   "outputs": [],
   "source": [
    "#select approtiate columns for merging with main df\n",
    "education = education[['Municipalities', 'HigherEdu']]\n",
    "\n",
    "df = df.merge(education, how= 'left')"
   ]
  },
  {
   "cell_type": "code",
   "execution_count": 51,
   "metadata": {},
   "outputs": [
    {
     "data": {
      "text/plain": [
       "Municipalities               object\n",
       "VegVenues                     int64\n",
       "Population                    int64\n",
       "Latitude                    float64\n",
       "Longitude                   float64\n",
       "TotalVenues                 float64\n",
       "PeoplePerVegVenue             int64\n",
       "PeoplePerRestaurant           int64\n",
       "JobsInHospitality             int64\n",
       "JobsInHospitalityDensity    float64\n",
       "RetailPriceM2               float64\n",
       "HigherEdu                   float64\n",
       "dtype: object"
      ]
     },
     "execution_count": 51,
     "metadata": {},
     "output_type": "execute_result"
    }
   ],
   "source": [
    "df.dtypes"
   ]
  },
  {
   "cell_type": "markdown",
   "metadata": {},
   "source": [
    "## 8. Building the scoring model"
   ]
  },
  {
   "cell_type": "markdown",
   "metadata": {},
   "source": [
    "Drop VegVenues because Population / Veg Venues is a fairer measurement of the market saturation. (relative measure vs absolute)\n",
    "\n",
    "Drop Population because big cities are a double edged sword. High pop means chance of great success but also higher chance of obscurity (High risk and high reward). Population on its own is not a good indicator. IT is with other values combined. Besides. You don't need a large city to be successful, just enouph to fill the restaurant\n",
    "\n",
    "TotalVenues (Restaurants is a good indicator of market saturation, but it needs to be corrected for city size, so I will kep PeoplePerVegVenue, PeoplePerRestaurant\n",
    "\n",
    "Drop Jobs in hospitality (proxy for tourism) this measure needs to be corrected for population size. JobsInHospitalityDensity = Population / JobsInHospitality. Resteraunt owners should look for a city with a low value as it suggest that the jobs in hosp is not explained by local pop and thus must be because of external pop (tourism)"
   ]
  },
  {
   "cell_type": "code",
   "execution_count": 52,
   "metadata": {},
   "outputs": [],
   "source": [
    "#create a new df with only the variables that will be used in the model\n",
    "df2 = df.drop(columns = ['VegVenues', 'Population','Latitude', 'Longitude', 'TotalVenues', 'JobsInHospitality'])"
   ]
  },
  {
   "cell_type": "code",
   "execution_count": 53,
   "metadata": {},
   "outputs": [],
   "source": [
    "#rename some columns to make intuitive sense to the user\n",
    "df2.rename(columns = {'JobsInHospitalityDensity': 'TourismIndex', 'PeoplePerVegVenue' : 'VegRestaurantDensity', 'PeoplePerRestaurant': 'TotRestaurantDensity' }, inplace = True)"
   ]
  },
  {
   "cell_type": "markdown",
   "metadata": {},
   "source": [
    "Describe different Variables in the formula\n",
    "+ Direct Market Saturation / Competition = PeoplePerVegVenue, renamed as VegRestaurantDensity . The more people there are in the city per veg venues, the better the prospects for a new venue. There is simply more room as direct competition will not be so dire.\n",
    "+ Indirect Market Saturation / Competition = A new Venue will not only compete with other veg/vegan venues. It will also compete with resetraunts in other categories like Italian or Indian restaurants. So the amount of PeoplePerRestaurant, renamed as TotRestDensity needs to be as high as possible. The lower the restaurant density the more room there is for a new one\n"
   ]
  },
  {
   "cell_type": "code",
   "execution_count": 54,
   "metadata": {},
   "outputs": [
    {
     "data": {
      "text/html": [
       "<div>\n",
       "<style scoped>\n",
       "    .dataframe tbody tr th:only-of-type {\n",
       "        vertical-align: middle;\n",
       "    }\n",
       "\n",
       "    .dataframe tbody tr th {\n",
       "        vertical-align: top;\n",
       "    }\n",
       "\n",
       "    .dataframe thead th {\n",
       "        text-align: right;\n",
       "    }\n",
       "</style>\n",
       "<table border=\"1\" class=\"dataframe\">\n",
       "  <thead>\n",
       "    <tr style=\"text-align: right;\">\n",
       "      <th></th>\n",
       "      <th>Municipalities</th>\n",
       "      <th>VegRestaurantDensity</th>\n",
       "      <th>TotRestaurantDensity</th>\n",
       "      <th>TourismIndex</th>\n",
       "      <th>RetailPriceM2</th>\n",
       "      <th>HigherEdu</th>\n",
       "    </tr>\n",
       "  </thead>\n",
       "  <tbody>\n",
       "    <tr>\n",
       "      <th>0</th>\n",
       "      <td>Amsterdam</td>\n",
       "      <td>9591</td>\n",
       "      <td>874</td>\n",
       "      <td>16.6</td>\n",
       "      <td>342.10</td>\n",
       "      <td>46.7</td>\n",
       "    </tr>\n",
       "    <tr>\n",
       "      <th>1</th>\n",
       "      <td>Rotterdam</td>\n",
       "      <td>25044</td>\n",
       "      <td>1941</td>\n",
       "      <td>33.2</td>\n",
       "      <td>207.85</td>\n",
       "      <td>32.5</td>\n",
       "    </tr>\n",
       "    <tr>\n",
       "      <th>2</th>\n",
       "      <td>Zaanstad</td>\n",
       "      <td>7127</td>\n",
       "      <td>2877</td>\n",
       "      <td>65.3</td>\n",
       "      <td>198.55</td>\n",
       "      <td>15.0</td>\n",
       "    </tr>\n",
       "    <tr>\n",
       "      <th>3</th>\n",
       "      <td>Delft</td>\n",
       "      <td>5755</td>\n",
       "      <td>621</td>\n",
       "      <td>37.0</td>\n",
       "      <td>215.85</td>\n",
       "      <td>64.6</td>\n",
       "    </tr>\n",
       "    <tr>\n",
       "      <th>4</th>\n",
       "      <td>'s-Gravenhage</td>\n",
       "      <td>32108</td>\n",
       "      <td>1072</td>\n",
       "      <td>40.4</td>\n",
       "      <td>284.35</td>\n",
       "      <td>28.9</td>\n",
       "    </tr>\n",
       "  </tbody>\n",
       "</table>\n",
       "</div>"
      ],
      "text/plain": [
       "  Municipalities  VegRestaurantDensity  TotRestaurantDensity  TourismIndex  \\\n",
       "0      Amsterdam                  9591                   874          16.6   \n",
       "1      Rotterdam                 25044                  1941          33.2   \n",
       "2       Zaanstad                  7127                  2877          65.3   \n",
       "3          Delft                  5755                   621          37.0   \n",
       "4  's-Gravenhage                 32108                  1072          40.4   \n",
       "\n",
       "   RetailPriceM2  HigherEdu  \n",
       "0         342.10       46.7  \n",
       "1         207.85       32.5  \n",
       "2         198.55       15.0  \n",
       "3         215.85       64.6  \n",
       "4         284.35       28.9  "
      ]
     },
     "execution_count": 54,
     "metadata": {},
     "output_type": "execute_result"
    }
   ],
   "source": [
    "df2.head()"
   ]
  },
  {
   "cell_type": "code",
   "execution_count": 55,
   "metadata": {},
   "outputs": [],
   "source": [
    "#use skleanr min max scaler to scale the data to values between 0 and 1\n",
    "scaler = MinMaxScaler()\n",
    "\n",
    "data = df2.iloc[:,1:]\n",
    "scaler.fit(data)\n",
    "temp = scaler.transform(data)"
   ]
  },
  {
   "cell_type": "code",
   "execution_count": 56,
   "metadata": {},
   "outputs": [],
   "source": [
    "#add the scaled data to a new df\n",
    "Normalized = pd.DataFrame(temp, columns = df2.columns[1:])"
   ]
  },
  {
   "cell_type": "code",
   "execution_count": 57,
   "metadata": {},
   "outputs": [],
   "source": [
    "#import municipalities\n",
    "Normalized['Municipalities'] = df['Municipalities']"
   ]
  },
  {
   "cell_type": "markdown",
   "metadata": {},
   "source": [
    "Order the variables from most to least important\n",
    "1. Retail Price, all falls or stand an with afordable location (Negative impact on score)\n",
    "2. Veg Restaurant and Tot Restaurant Density. Important indicators of market saturation (Positive impact on scores)\n",
    "3. Tourism index. Low value means good so (Negative impact on score)\n",
    "4. Higher Education as a proxy for demand for a veg venue. (Positive impact on scores)"
   ]
  },
  {
   "cell_type": "code",
   "execution_count": 58,
   "metadata": {},
   "outputs": [],
   "source": [
    "#order the variables from most to least important\n",
    "Normalized = Normalized[['Municipalities', 'RetailPriceM2', 'VegRestaurantDensity' , 'TotRestaurantDensity', 'TourismIndex', 'HigherEdu' ]]"
   ]
  },
  {
   "cell_type": "code",
   "execution_count": 59,
   "metadata": {},
   "outputs": [],
   "source": [
    "#building the model as a formula with weights\n",
    "#construct formula 1 as a new Column. Weight are chosed by personal consideration\n",
    "Normalized['CityScoreBudget'] = - Normalized['RetailPriceM2'] * 0.4 + Normalized['VegRestaurantDensity'] * 0.2 + Normalized['TotRestaurantDensity'] * 0.2 - Normalized['TourismIndex'] * 0.12 + Normalized['HigherEdu'] * 0.08\n",
    "#construct formula 2 as a new Column. Weight are assigned equally\n",
    "Normalized['CityScoreEqual'] = - Normalized['RetailPriceM2'] * 0.2 + Normalized['VegRestaurantDensity'] * 0.2 + Normalized['TotRestaurantDensity'] * 0.2 - Normalized['TourismIndex'] * 0.2 + Normalized['HigherEdu'] * 0.2\n",
    "#construct formula 3 as a new Column. A balance between formula 1 and 2\n",
    "Normalized['CityScoreBalance'] = - Normalized['RetailPriceM2'] * 0.3 + Normalized['VegRestaurantDensity'] * 0.2 + Normalized['TotRestaurantDensity'] * 0.2 - Normalized['TourismIndex'] * 0.17 + Normalized['HigherEdu'] * 0.13\n"
   ]
  },
  {
   "cell_type": "code",
   "execution_count": 60,
   "metadata": {},
   "outputs": [],
   "source": [
    "#correct scores so that the lowest score is equal to 0\n",
    "Normalized['CityScoreBudgetCorr'] = round(Normalized['CityScoreBudget'] + 0.320484,2)\n",
    "Normalized['CityScoreEqualCorr'] = round(Normalized['CityScoreEqual'] + 0.082394,2)\n",
    "Normalized['CityScoreBalanceCorr'] = round(Normalized['CityScoreBalance'] + 0.187151,2)"
   ]
  },
  {
   "cell_type": "code",
   "execution_count": 61,
   "metadata": {},
   "outputs": [],
   "source": [
    "#add the values of the 3 models together because I don't know which one is best\n",
    "Normalized['CityScore'] = Normalized['CityScoreBudgetCorr'] + Normalized['CityScoreEqualCorr'] + Normalized['CityScoreBalanceCorr']"
   ]
  },
  {
   "cell_type": "code",
   "execution_count": 62,
   "metadata": {},
   "outputs": [],
   "source": [
    "Normalized.sort_values(by= 'CityScore', ascending = False, inplace=True)"
   ]
  },
  {
   "cell_type": "code",
   "execution_count": 63,
   "metadata": {},
   "outputs": [
    {
     "data": {
      "text/html": [
       "<div>\n",
       "<style scoped>\n",
       "    .dataframe tbody tr th:only-of-type {\n",
       "        vertical-align: middle;\n",
       "    }\n",
       "\n",
       "    .dataframe tbody tr th {\n",
       "        vertical-align: top;\n",
       "    }\n",
       "\n",
       "    .dataframe thead th {\n",
       "        text-align: right;\n",
       "    }\n",
       "</style>\n",
       "<table border=\"1\" class=\"dataframe\">\n",
       "  <thead>\n",
       "    <tr style=\"text-align: right;\">\n",
       "      <th></th>\n",
       "      <th>Municipalities</th>\n",
       "      <th>RetailPriceM2</th>\n",
       "      <th>VegRestaurantDensity</th>\n",
       "      <th>TotRestaurantDensity</th>\n",
       "      <th>TourismIndex</th>\n",
       "      <th>HigherEdu</th>\n",
       "      <th>CityScoreBudget</th>\n",
       "      <th>CityScoreEqual</th>\n",
       "      <th>CityScoreBalance</th>\n",
       "      <th>CityScoreBudgetCorr</th>\n",
       "      <th>CityScoreEqualCorr</th>\n",
       "      <th>CityScoreBalanceCorr</th>\n",
       "      <th>CityScore</th>\n",
       "    </tr>\n",
       "  </thead>\n",
       "  <tbody>\n",
       "    <tr>\n",
       "      <th>28</th>\n",
       "      <td>Emmen</td>\n",
       "      <td>0.000000</td>\n",
       "      <td>1.000000</td>\n",
       "      <td>1.000000</td>\n",
       "      <td>1.000000</td>\n",
       "      <td>0.000000</td>\n",
       "      <td>0.280000</td>\n",
       "      <td>0.200000</td>\n",
       "      <td>0.230000</td>\n",
       "      <td>0.60</td>\n",
       "      <td>0.28</td>\n",
       "      <td>0.42</td>\n",
       "      <td>1.30</td>\n",
       "    </tr>\n",
       "    <tr>\n",
       "      <th>20</th>\n",
       "      <td>Tilburg</td>\n",
       "      <td>0.067564</td>\n",
       "      <td>0.485641</td>\n",
       "      <td>0.469577</td>\n",
       "      <td>0.569343</td>\n",
       "      <td>0.579143</td>\n",
       "      <td>0.142028</td>\n",
       "      <td>0.179491</td>\n",
       "      <td>0.149275</td>\n",
       "      <td>0.46</td>\n",
       "      <td>0.26</td>\n",
       "      <td>0.34</td>\n",
       "      <td>1.06</td>\n",
       "    </tr>\n",
       "    <tr>\n",
       "      <th>23</th>\n",
       "      <td>Apeldoorn</td>\n",
       "      <td>0.068113</td>\n",
       "      <td>0.751819</td>\n",
       "      <td>0.339427</td>\n",
       "      <td>0.392336</td>\n",
       "      <td>0.080074</td>\n",
       "      <td>0.150330</td>\n",
       "      <td>0.142174</td>\n",
       "      <td>0.141528</td>\n",
       "      <td>0.47</td>\n",
       "      <td>0.22</td>\n",
       "      <td>0.33</td>\n",
       "      <td>1.02</td>\n",
       "    </tr>\n",
       "    <tr>\n",
       "      <th>11</th>\n",
       "      <td>Almere</td>\n",
       "      <td>0.044768</td>\n",
       "      <td>0.361565</td>\n",
       "      <td>0.776535</td>\n",
       "      <td>0.833942</td>\n",
       "      <td>0.102421</td>\n",
       "      <td>0.117833</td>\n",
       "      <td>0.072362</td>\n",
       "      <td>0.085734</td>\n",
       "      <td>0.44</td>\n",
       "      <td>0.15</td>\n",
       "      <td>0.27</td>\n",
       "      <td>0.86</td>\n",
       "    </tr>\n",
       "    <tr>\n",
       "      <th>12</th>\n",
       "      <td>Nijmegen</td>\n",
       "      <td>0.207635</td>\n",
       "      <td>0.293969</td>\n",
       "      <td>0.209823</td>\n",
       "      <td>0.386861</td>\n",
       "      <td>0.813780</td>\n",
       "      <td>0.036383</td>\n",
       "      <td>0.144615</td>\n",
       "      <td>0.078493</td>\n",
       "      <td>0.36</td>\n",
       "      <td>0.23</td>\n",
       "      <td>0.27</td>\n",
       "      <td>0.86</td>\n",
       "    </tr>\n",
       "  </tbody>\n",
       "</table>\n",
       "</div>"
      ],
      "text/plain": [
       "   Municipalities  RetailPriceM2  VegRestaurantDensity  TotRestaurantDensity  \\\n",
       "28          Emmen       0.000000              1.000000              1.000000   \n",
       "20        Tilburg       0.067564              0.485641              0.469577   \n",
       "23      Apeldoorn       0.068113              0.751819              0.339427   \n",
       "11         Almere       0.044768              0.361565              0.776535   \n",
       "12       Nijmegen       0.207635              0.293969              0.209823   \n",
       "\n",
       "    TourismIndex  HigherEdu  CityScoreBudget  CityScoreEqual  \\\n",
       "28      1.000000   0.000000         0.280000        0.200000   \n",
       "20      0.569343   0.579143         0.142028        0.179491   \n",
       "23      0.392336   0.080074         0.150330        0.142174   \n",
       "11      0.833942   0.102421         0.117833        0.072362   \n",
       "12      0.386861   0.813780         0.036383        0.144615   \n",
       "\n",
       "    CityScoreBalance  CityScoreBudgetCorr  CityScoreEqualCorr  \\\n",
       "28          0.230000                 0.60                0.28   \n",
       "20          0.149275                 0.46                0.26   \n",
       "23          0.141528                 0.47                0.22   \n",
       "11          0.085734                 0.44                0.15   \n",
       "12          0.078493                 0.36                0.23   \n",
       "\n",
       "    CityScoreBalanceCorr  CityScore  \n",
       "28                  0.42       1.30  \n",
       "20                  0.34       1.06  \n",
       "23                  0.33       1.02  \n",
       "11                  0.27       0.86  \n",
       "12                  0.27       0.86  "
      ]
     },
     "execution_count": 63,
     "metadata": {},
     "output_type": "execute_result"
    }
   ],
   "source": [
    "Normalized.head()"
   ]
  },
  {
   "cell_type": "markdown",
   "metadata": {},
   "source": [
    "## 9. Data Visualisation"
   ]
  },
  {
   "cell_type": "markdown",
   "metadata": {},
   "source": [
    "To communicate the finding of this study in the report, I will visualise the results using matplotlib and seaborn."
   ]
  },
  {
   "cell_type": "code",
   "execution_count": 64,
   "metadata": {},
   "outputs": [
    {
     "data": {
      "image/png": "[encoded data removed]",
      "text/plain": [
       "<Figure size 1080x720 with 1 Axes>"
      ]
     },
     "metadata": {
      "needs_background": "light"
     },
     "output_type": "display_data"
    }
   ],
   "source": [
    "#Plot all municipalities and their total (model 1+ 2+ 3 ) suitability scores\n",
    "Normalized.sort_values(by= 'CityScore', ascending = False, inplace=True)\n",
    "plt.figure(figsize=(15, 10)) \n",
    "ax = sns.barplot(y=Normalized['Municipalities'], x=Normalized['CityScore'], orient= 'h', color = 'red', saturation = 0.7)\n",
    "#plt.title('Suitability scores for opening a vegetarian or vegan restaurant', fontdict= {'fontsize': 20}) # add title to the plot \n",
    "mpl.rc('ytick', labelsize=13)\n",
    "mpl.rc('xtick', labelsize=13)\n",
    "plt.xlabel('City Score (Total)', fontdict= {'fontsize': 13})\n",
    "plt.ylabel('')\n",
    "\n",
    "#add value at top of bar\n",
    "for pY, pX in enumerate(Normalized['CityScore']):\n",
    "    ax.annotate(round(pX,2), xy=(pX*1.01,pY), fontsize = 12, va='center')\n"
   ]
  },
  {
   "cell_type": "code",
   "execution_count": 65,
   "metadata": {},
   "outputs": [
    {
     "data": {
      "image/png": "[encoded data removed]",
      "text/plain": [
       "<Figure size 504x504 with 1 Axes>"
      ]
     },
     "metadata": {
      "needs_background": "light"
     },
     "output_type": "display_data"
    }
   ],
   "source": [
    "#Plot all municipalities and  suitability budget\n",
    "Normalized.sort_values(by= 'CityScoreBudgetCorr', ascending = False, inplace=True)\n",
    "plt.figure(figsize=(7, 7)) \n",
    "ax = sns.barplot(y=Normalized['Municipalities'][0:10], x=Normalized['CityScoreBudgetCorr'], orient= 'h', color = 'indianred', saturation = 0.7)\n",
    "#plt.title('Suitability scores for opening a vegetarian or vegan restaurant', fontdict= {'fontsize': 20}) # add title to the plot \n",
    "mpl.rc('ytick', labelsize=13)\n",
    "mpl.rc('xtick', labelsize=13)\n",
    "ax.set(xlim=(0,0.65))\n",
    "\n",
    "plt.xlabel('City Score (Budget)', fontdict= {'fontsize': 13})\n",
    "plt.ylabel('')\n",
    "\n",
    "#add value at top of bar\n",
    "for pY, pX in enumerate(Normalized['CityScoreBudgetCorr'][0:10]):\n",
    "    ax.annotate(round(pX,2), xy=(pX*1.01,pY), fontsize = 12, va='center')\n"
   ]
  },
  {
   "cell_type": "code",
   "execution_count": 66,
   "metadata": {},
   "outputs": [
    {
     "data": {
      "image/png": "[encoded data removed]",
      "text/plain": [
       "<Figure size 504x504 with 1 Axes>"
      ]
     },
     "metadata": {
      "needs_background": "light"
     },
     "output_type": "display_data"
    }
   ],
   "source": [
    "#Plot all municipalities and  suitability equal\n",
    "Normalized.sort_values(by= 'CityScoreEqualCorr', ascending = False, inplace=True)\n",
    "plt.figure(figsize=(7, 7)) \n",
    "ax = sns.barplot(y=Normalized['Municipalities'][0:10], x=Normalized['CityScoreEqualCorr'], orient= 'h', color = 'orangered', saturation = 0.7)\n",
    "#plt.title('Suitability scores for opening a vegetarian or vegan restaurant', fontdict= {'fontsize': 20}) # add title to the plot \n",
    "mpl.rc('ytick', labelsize=13)\n",
    "mpl.rc('xtick', labelsize=13)\n",
    "ax.set(xlim=(0,0.33))\n",
    "\n",
    "plt.xlabel('City Score (Equal)', fontdict= {'fontsize': 13})\n",
    "plt.ylabel('')\n",
    "\n",
    "#add value at top of bar\n",
    "for pY, pX in enumerate(Normalized['CityScoreEqualCorr'][0:10]):\n",
    "    ax.annotate(round(pX,2), xy=(pX*1.01,pY), fontsize = 12, va='center')\n"
   ]
  },
  {
   "cell_type": "code",
   "execution_count": 67,
   "metadata": {},
   "outputs": [
    {
     "data": {
      "image/png": "[encoded data removed]",
      "text/plain": [
       "<Figure size 504x504 with 1 Axes>"
      ]
     },
     "metadata": {
      "needs_background": "light"
     },
     "output_type": "display_data"
    }
   ],
   "source": [
    "#Plot all municipalities and  suitability equal\n",
    "Normalized.sort_values(by= 'CityScoreBalanceCorr', ascending = False, inplace=True)\n",
    "plt.figure(figsize=(7, 7)) \n",
    "ax = sns.barplot(y=Normalized['Municipalities'][0:10], x=Normalized['CityScoreBalanceCorr'], orient= 'h', color = 'sienna', saturation = 0.7)\n",
    "#plt.title('Suitability scores for opening a vegetarian or vegan restaurant', fontdict= {'fontsize': 20}) # add title to the plot \n",
    "mpl.rc('ytick', labelsize=13)\n",
    "mpl.rc('xtick', labelsize=13)\n",
    "ax.set(xlim=(0,0.47))\n",
    "\n",
    "plt.xlabel('City Score (Balance)', fontdict= {'fontsize': 13})\n",
    "plt.ylabel('')\n",
    "\n",
    "#add value at top of bar\n",
    "for pY, pX in enumerate(Normalized['CityScoreBalanceCorr'][0:10]):\n",
    "    ax.annotate(round(pX,2), xy=(pX*1.01,pY), fontsize = 12, va='center')\n"
   ]
  },
  {
   "cell_type": "code",
   "execution_count": 68,
   "metadata": {},
   "outputs": [
    {
     "data": {
      "text/html": [
       "<div style=\"width:100%;\"><div style=\"position:relative;width:100%;height:0;padding-bottom:60%;\"><span style=\"color:#565656\">Make this Notebook Trusted to load map: File -> Trust Notebook</span><iframe src=\"about:blank\" style=\"position:absolute;width:100%;height:100%;left:0;top:0;border:none !important;\" data-html=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 onload=\"this.contentDocument.open();this.contentDocument.write(atob(this.getAttribute('data-html')));this.contentDocument.close();\" allowfullscreen webkitallowfullscreen mozallowfullscreen></iframe></div></div>"
      ],
      "text/plain": [
       "<folium.folium.Map at 0x142e312a7f0>"
      ]
     },
     "execution_count": 68,
     "metadata": {},
     "output_type": "execute_result"
    }
   ],
   "source": [
    "#show all municipalities on the map with a tag\n",
    "\n",
    "# define map of the Netherlands map \n",
    "NL_map = folium.Map(location=[52.218, 5.538], zoom_start=7.4, tiles='OpenStreetMap')\n",
    "# instantiate a feature group for the incidents in the dataframe \n",
    "incidents = folium.map.FeatureGroup()\n",
    "# loop through the municipalities \n",
    "for lat, lng, in zip(df['Latitude'], df['Longitude']): \n",
    "    incidents.add_child( \n",
    "        folium.features.CircleMarker( [lat, lng], \n",
    "            radius=2, # define how big you want the circle markers to be \n",
    "            color='black', \n",
    "            fill=False, \n",
    "            fill_color='black', \n",
    "            fill_opacity=0.6 )) \n",
    " # add incidents to map \n",
    "NL_map.add_child(incidents)"
   ]
  },
  {
   "cell_type": "code",
   "execution_count": 69,
   "metadata": {},
   "outputs": [
    {
     "data": {
      "image/png": "[encoded data removed]",
      "text/plain": [
       "<Figure size 504x504 with 1 Axes>"
      ]
     },
     "metadata": {
      "needs_background": "light"
     },
     "output_type": "display_data"
    }
   ],
   "source": [
    "#Plot number of veg venues\n",
    "plt.figure(figsize=(7, 7)) \n",
    "ax = sns.barplot(y=df['Municipalities'][0:10], x=df['VegVenues'][0:10], orient= 'h', color = 'blue', saturation = 0.7)\n",
    "#plt.title('Number of Veg Venues per city', fontdict= {'fontsize': 20}) # add title to the plot \n",
    "mpl.rc('ytick', labelsize=13)\n",
    "mpl.rc('xtick', labelsize=13)\n",
    "plt.xlabel('Veg Venues', fontdict= {'fontsize': 15})\n",
    "plt.ylabel('')\n",
    "\n",
    "#add value at top of bar\n",
    "for pY, pX in enumerate(df['VegVenues'][0:10]):\n",
    "    ax.annotate(round(pX,2), xy=(pX*1.01,pY), fontsize = 12, va='center')\n",
    "\n"
   ]
  },
  {
   "cell_type": "code",
   "execution_count": 70,
   "metadata": {},
   "outputs": [
    {
     "data": {
      "image/png": "[encoded data removed]",
      "text/plain": [
       "<Figure size 504x504 with 1 Axes>"
      ]
     },
     "metadata": {
      "needs_background": "light"
     },
     "output_type": "display_data"
    }
   ],
   "source": [
    "#Plot number of total venues\n",
    "df = df.sort_values(by= 'TotalVenues', ascending = False)\n",
    "\n",
    "plt.figure(figsize=(7, 7)) \n",
    "ax = sns.barplot(y=df['Municipalities'][0:10], x=df['TotalVenues'][0:10], orient= 'h', color = 'teal', saturation = 0.7)\n",
    "#plt.title('Number of Veg Venues per city', fontdict= {'fontsize': 20}) # add title to the plot \n",
    "mpl.rc('ytick', labelsize=13)\n",
    "mpl.rc('xtick', labelsize=13)\n",
    "ax.set(xlim=(0,1100))\n",
    "plt.xlabel('Number of Restaurants', fontdict= {'fontsize': 15})\n",
    "plt.ylabel('')\n",
    "\n",
    "#add value at top of bar\n",
    "for pY, pX in enumerate(df['TotalVenues'][0:10]):\n",
    "    ax.annotate(int(pX), xy=(pX*1.01,pY), fontsize = 12, va='center')\n"
   ]
  },
  {
   "cell_type": "code",
   "execution_count": 71,
   "metadata": {},
   "outputs": [
    {
     "data": {
      "image/png": "[encoded data removed]",
      "text/plain": [
       "<Figure size 504x504 with 1 Axes>"
      ]
     },
     "metadata": {
      "needs_background": "light"
     },
     "output_type": "display_data"
    }
   ],
   "source": [
    "#Plot Jobs in hospitality \n",
    "df = df.sort_values(by= 'JobsInHospitality', ascending = False)\n",
    "\n",
    "plt.figure(figsize=(7, 7)) \n",
    "ax = sns.barplot(y=df['Municipalities'][0:10], x=df['JobsInHospitality'][0:10], orient= 'h', color = 'purple', saturation = 0.7)\n",
    "#plt.title('Number of Veg Venues per city', fontdict= {'fontsize': 20}) # add title to the plot \n",
    "mpl.rc('ytick', labelsize=13)\n",
    "mpl.rc('xtick', labelsize=13)\n",
    "ax.set(xlim=(0,60000))\n",
    "plt.xlabel('Jobs in hospitality', fontdict= {'fontsize': 15})\n",
    "plt.ylabel('')\n",
    "\n",
    "\n",
    "#add value at top of bar\n",
    "for pY, pX in enumerate(df['JobsInHospitality'][0:10]):\n",
    "    ax.annotate(int(pX), xy=(pX*1.01,pY), fontsize = 12, va='center')\n"
   ]
  },
  {
   "cell_type": "code",
   "execution_count": 72,
   "metadata": {},
   "outputs": [
    {
     "data": {
      "image/png": "[encoded data removed]",
      "text/plain": [
       "<Figure size 504x504 with 1 Axes>"
      ]
     },
     "metadata": {
      "needs_background": "light"
     },
     "output_type": "display_data"
    }
   ],
   "source": [
    "#Plot retail price per M2 \n",
    "df = df.sort_values(by= 'RetailPriceM2')\n",
    "\n",
    "plt.figure(figsize=(7, 7)) \n",
    "ax = sns.barplot(y=df['Municipalities'][0:10], x=df['RetailPriceM2'][0:10], orient= 'h', color = 'yellow', saturation = 0.7)\n",
    "#plt.title('Number of Veg Venues per city', fontdict= {'fontsize': 20}) # add title to the plot \n",
    "mpl.rc('ytick', labelsize=13)\n",
    "mpl.rc('xtick', labelsize=13)\n",
    "ax.set(xlim=(0,228))\n",
    "plt.xlabel('Price per square meter', fontdict= {'fontsize': 15})\n",
    "plt.ylabel('')\n",
    "\n",
    "\n",
    "#add value at top of bar\n",
    "for pY, pX in enumerate(df['RetailPriceM2'][0:10]):\n",
    "    ax.annotate(int(pX), xy=(pX*1.01,pY), fontsize = 12, va='center')\n"
   ]
  },
  {
   "cell_type": "code",
   "execution_count": 73,
   "metadata": {},
   "outputs": [
    {
     "data": {
      "image/png": "[encoded data removed]",
      "text/plain": [
       "<Figure size 504x504 with 1 Axes>"
      ]
     },
     "metadata": {
      "needs_background": "light"
     },
     "output_type": "display_data"
    }
   ],
   "source": [
    "#Plot HigherEdu\n",
    "df = df.sort_values(by= 'HigherEdu', ascending = False)\n",
    "\n",
    "plt.figure(figsize=(7, 7)) \n",
    "ax = sns.barplot(y=df['Municipalities'][0:10], x=df['HigherEdu'][0:10], orient= 'h', color = 'khaki', saturation = 0.7)\n",
    "mpl.rc('ytick', labelsize=13)\n",
    "mpl.rc('xtick', labelsize=13)\n",
    "ax.set(xlim=(0,71))\n",
    "plt.xlabel('% of population with a higher education', fontdict= {'fontsize': 15})\n",
    "plt.ylabel('')\n",
    "\n",
    "\n",
    "#add value at top of bar\n",
    "for pY, pX in enumerate(df['HigherEdu'][0:10]):\n",
    "    ax.annotate(int(pX), xy=(pX*1.01,pY), fontsize = 12, va='center')\n"
   ]
  },
  {
   "cell_type": "code",
   "execution_count": 74,
   "metadata": {},
   "outputs": [
    {
     "data": {
      "image/png": "[encoded data removed]",
      "text/plain": [
       "<Figure size 504x504 with 1 Axes>"
      ]
     },
     "metadata": {
      "needs_background": "light"
     },
     "output_type": "display_data"
    }
   ],
   "source": [
    "#Plot direct competition\n",
    "df2 = df2.sort_values(by= 'VegRestaurantDensity', ascending = False)\n",
    "\n",
    "plt.figure(figsize=(7, 7)) \n",
    "ax = sns.barplot(y=df2['Municipalities'][0:10], x=df2['VegRestaurantDensity'][0:10], orient= 'h', color = 'coral', saturation = 0.7)\n",
    "mpl.rc('ytick', labelsize=13)\n",
    "mpl.rc('xtick', labelsize=13)\n",
    "ax.set(xlim=(0,125000))\n",
    "plt.xlabel('number of customers per veg. restaurant', fontdict= {'fontsize': 14})\n",
    "plt.ylabel('')\n",
    "\n",
    "\n",
    "#add value at top of bar\n",
    "for pY, pX in enumerate(df2['VegRestaurantDensity'][0:10]):\n",
    "    ax.annotate(int(pX), xy=(pX*1.01,pY), fontsize = 12, va='center')\n"
   ]
  },
  {
   "cell_type": "code",
   "execution_count": 75,
   "metadata": {},
   "outputs": [
    {
     "data": {
      "image/png": "[encoded data removed]",
      "text/plain": [
       "<Figure size 504x504 with 1 Axes>"
      ]
     },
     "metadata": {
      "needs_background": "light"
     },
     "output_type": "display_data"
    }
   ],
   "source": [
    "#Plot indirect competition\n",
    "df2 = df2.sort_values(by= 'TotRestaurantDensity', ascending = False)\n",
    "\n",
    "plt.figure(figsize=(7, 7)) \n",
    "ax = sns.barplot(y=df2['Municipalities'][0:10], x=df2['TotRestaurantDensity'][0:10], orient= 'h', color = 'palevioletred', saturation = 0.7)\n",
    "mpl.rc('ytick', labelsize=13)\n",
    "mpl.rc('xtick', labelsize=13)\n",
    "ax.set(xlim=(0,4800))\n",
    "plt.xlabel('number of customers per restaurant', fontdict= {'fontsize': 14})\n",
    "plt.ylabel('')\n",
    "\n",
    "\n",
    "#add value at top of bar\n",
    "for pY, pX in enumerate(df2['TotRestaurantDensity'][0:10]):\n",
    "    ax.annotate(int(pX), xy=(pX*1.01,pY), fontsize = 12, va='center')\n"
   ]
  },
  {
   "cell_type": "code",
   "execution_count": 76,
   "metadata": {},
   "outputs": [
    {
     "data": {
      "image/png": "[encoded data removed]",
      "text/plain": [
       "<Figure size 504x504 with 1 Axes>"
      ]
     },
     "metadata": {
      "needs_background": "light"
     },
     "output_type": "display_data"
    }
   ],
   "source": [
    "#Plot Tourism Index\n",
    "df2 = df2.sort_values(by= 'TourismIndex')\n",
    "\n",
    "plt.figure(figsize=(7, 7)) \n",
    "ax = sns.barplot(y=df2['Municipalities'][0:10], x=df2['TourismIndex'][0:10], orient= 'h', color = 'steelblue', saturation = 0.7)\n",
    "mpl.rc('ytick', labelsize=13)\n",
    "mpl.rc('xtick', labelsize=13)\n",
    "ax.set(xlim=(0,38))\n",
    "plt.xlabel('number of people per job in hospitality', fontdict= {'fontsize': 14})\n",
    "plt.ylabel('')\n",
    "\n",
    "\n",
    "#add value at top of bar\n",
    "for pY, pX in enumerate(df2['TourismIndex'][0:10]):\n",
    "    ax.annotate(int(pX), xy=(pX*1.01,pY), fontsize = 12, va='center')\n"
   ]
  },
  {
   "cell_type": "markdown",
   "metadata": {},
   "source": [
    "## 10. Post Model Analysis of top 5 cities Visualisation"
   ]
  },
  {
   "cell_type": "code",
   "execution_count": 77,
   "metadata": {},
   "outputs": [],
   "source": [
    "#create a new df with only the top 5 cities and invert negative values\n",
    "Normalized.sort_values(by = 'CityScore', ascending = False)\n",
    "selection = Normalized[['Municipalities','RetailPriceM2', 'VegRestaurantDensity', 'TotRestaurantDensity', 'TourismIndex', 'HigherEdu']].head()\n",
    "selection['RetailPriceM2Corr'] =  1 - selection['RetailPriceM2']\n",
    "selection['TourismIndexCorr'] =  1 - selection['TourismIndex']\n",
    "selection['TourismIndexCorr'] = round(selection['TourismIndexCorr'],6)"
   ]
  },
  {
   "cell_type": "code",
   "execution_count": 78,
   "metadata": {},
   "outputs": [
    {
     "data": {
      "text/html": [
       "<div>\n",
       "<style scoped>\n",
       "    .dataframe tbody tr th:only-of-type {\n",
       "        vertical-align: middle;\n",
       "    }\n",
       "\n",
       "    .dataframe tbody tr th {\n",
       "        vertical-align: top;\n",
       "    }\n",
       "\n",
       "    .dataframe thead th {\n",
       "        text-align: right;\n",
       "    }\n",
       "</style>\n",
       "<table border=\"1\" class=\"dataframe\">\n",
       "  <thead>\n",
       "    <tr style=\"text-align: right;\">\n",
       "      <th></th>\n",
       "      <th>Municipalities</th>\n",
       "      <th>RetailPriceM2</th>\n",
       "      <th>VegRestaurantDensity</th>\n",
       "      <th>TotRestaurantDensity</th>\n",
       "      <th>TourismIndex</th>\n",
       "      <th>HigherEdu</th>\n",
       "      <th>RetailPriceM2Corr</th>\n",
       "      <th>TourismIndexCorr</th>\n",
       "    </tr>\n",
       "  </thead>\n",
       "  <tbody>\n",
       "    <tr>\n",
       "      <th>28</th>\n",
       "      <td>Emmen</td>\n",
       "      <td>0.000000</td>\n",
       "      <td>1.000000</td>\n",
       "      <td>1.000000</td>\n",
       "      <td>1.000000</td>\n",
       "      <td>0.000000</td>\n",
       "      <td>1.000000</td>\n",
       "      <td>0.000000</td>\n",
       "    </tr>\n",
       "    <tr>\n",
       "      <th>20</th>\n",
       "      <td>Tilburg</td>\n",
       "      <td>0.067564</td>\n",
       "      <td>0.485641</td>\n",
       "      <td>0.469577</td>\n",
       "      <td>0.569343</td>\n",
       "      <td>0.579143</td>\n",
       "      <td>0.932436</td>\n",
       "      <td>0.430657</td>\n",
       "    </tr>\n",
       "    <tr>\n",
       "      <th>23</th>\n",
       "      <td>Apeldoorn</td>\n",
       "      <td>0.068113</td>\n",
       "      <td>0.751819</td>\n",
       "      <td>0.339427</td>\n",
       "      <td>0.392336</td>\n",
       "      <td>0.080074</td>\n",
       "      <td>0.931887</td>\n",
       "      <td>0.607664</td>\n",
       "    </tr>\n",
       "    <tr>\n",
       "      <th>12</th>\n",
       "      <td>Nijmegen</td>\n",
       "      <td>0.207635</td>\n",
       "      <td>0.293969</td>\n",
       "      <td>0.209823</td>\n",
       "      <td>0.386861</td>\n",
       "      <td>0.813780</td>\n",
       "      <td>0.792365</td>\n",
       "      <td>0.613139</td>\n",
       "    </tr>\n",
       "    <tr>\n",
       "      <th>11</th>\n",
       "      <td>Almere</td>\n",
       "      <td>0.044768</td>\n",
       "      <td>0.361565</td>\n",
       "      <td>0.776535</td>\n",
       "      <td>0.833942</td>\n",
       "      <td>0.102421</td>\n",
       "      <td>0.955232</td>\n",
       "      <td>0.166058</td>\n",
       "    </tr>\n",
       "  </tbody>\n",
       "</table>\n",
       "</div>"
      ],
      "text/plain": [
       "   Municipalities  RetailPriceM2  VegRestaurantDensity  TotRestaurantDensity  \\\n",
       "28          Emmen       0.000000              1.000000              1.000000   \n",
       "20        Tilburg       0.067564              0.485641              0.469577   \n",
       "23      Apeldoorn       0.068113              0.751819              0.339427   \n",
       "12       Nijmegen       0.207635              0.293969              0.209823   \n",
       "11         Almere       0.044768              0.361565              0.776535   \n",
       "\n",
       "    TourismIndex  HigherEdu  RetailPriceM2Corr  TourismIndexCorr  \n",
       "28      1.000000   0.000000           1.000000          0.000000  \n",
       "20      0.569343   0.579143           0.932436          0.430657  \n",
       "23      0.392336   0.080074           0.931887          0.607664  \n",
       "12      0.386861   0.813780           0.792365          0.613139  \n",
       "11      0.833942   0.102421           0.955232          0.166058  "
      ]
     },
     "execution_count": 78,
     "metadata": {},
     "output_type": "execute_result"
    }
   ],
   "source": [
    "selection"
   ]
  },
  {
   "cell_type": "code",
   "execution_count": 79,
   "metadata": {},
   "outputs": [
    {
     "data": {
      "text/plain": [
       "Text(0.5, 1.0, 'Cheapest retail prices')"
      ]
     },
     "execution_count": 79,
     "metadata": {},
     "output_type": "execute_result"
    },
    {
     "data": {
      "image/png": "[encoded data removed]",
      "text/plain": [
       "<Figure size 504x504 with 1 Axes>"
      ]
     },
     "metadata": {
      "needs_background": "light"
     },
     "output_type": "display_data"
    }
   ],
   "source": [
    "#Plot normalized Rent scores for the top 5 cities.\n",
    "\n",
    "plt.figure(figsize = (7,7)) \n",
    "ax= sns.barplot(x= 'Municipalities', y= 'RetailPriceM2Corr',  data= selection)\n",
    "\n",
    "\n",
    "#plt.title('Suitability scores for opening a vegetarian or vegan restaurant', fontdict= {'fontsize': 20}) # add title to the plot \n",
    "mpl.rc('ytick', labelsize=13)\n",
    "mpl.rc('xtick', labelsize=13)\n",
    "ax.set(ylim=(0,1))\n",
    "plt.xlabel('', fontdict= {'fontsize': 15})\n",
    "plt.ylabel('', fontdict= {'fontsize': 15})\n",
    "plt.title('Cheapest retail prices', fontdict= {'fontsize': 15})\n",
    "\n",
    "\n"
   ]
  },
  {
   "cell_type": "code",
   "execution_count": 80,
   "metadata": {},
   "outputs": [
    {
     "data": {
      "text/plain": [
       "Text(0.5, 1.0, 'Places with the least direct competition')"
      ]
     },
     "execution_count": 80,
     "metadata": {},
     "output_type": "execute_result"
    },
    {
     "data": {
      "image/png": "[encoded data removed]",
      "text/plain": [
       "<Figure size 504x504 with 1 Axes>"
      ]
     },
     "metadata": {
      "needs_background": "light"
     },
     "output_type": "display_data"
    }
   ],
   "source": [
    "#Plot normalized Direct competition scores for the top 5 cities.\n",
    "\n",
    "plt.figure(figsize = (7,7)) \n",
    "ax= sns.barplot(x= 'Municipalities', y= 'VegRestaurantDensity',  data= selection)\n",
    "\n",
    "\n",
    "#plt.title('Suitability scores for opening a vegetarian or vegan restaurant', fontdict= {'fontsize': 20}) # add title to the plot \n",
    "mpl.rc('ytick', labelsize=13)\n",
    "mpl.rc('xtick', labelsize=13)\n",
    "ax.set(ylim=(0,1))\n",
    "plt.xlabel('', fontdict= {'fontsize': 15})\n",
    "plt.ylabel('', fontdict= {'fontsize': 15})\n",
    "plt.title('Places with the least direct competition', fontdict= {'fontsize': 15})\n",
    "\n"
   ]
  },
  {
   "cell_type": "code",
   "execution_count": 81,
   "metadata": {},
   "outputs": [
    {
     "data": {
      "text/plain": [
       "Text(0.5, 1.0, 'Places with the least indirect competition')"
      ]
     },
     "execution_count": 81,
     "metadata": {},
     "output_type": "execute_result"
    },
    {
     "data": {
      "image/png": "[encoded data removed]",
      "text/plain": [
       "<Figure size 504x504 with 1 Axes>"
      ]
     },
     "metadata": {
      "needs_background": "light"
     },
     "output_type": "display_data"
    }
   ],
   "source": [
    "#Plot normalized Indirect competition scores for the top 5 cities.\n",
    "\n",
    "plt.figure(figsize = (7,7)) \n",
    "ax= sns.barplot(x= 'Municipalities', y= 'TotRestaurantDensity',  data= selection)\n",
    "\n",
    "\n",
    "#plt.title('Suitability scores for opening a vegetarian or vegan restaurant', fontdict= {'fontsize': 20}) # add title to the plot \n",
    "mpl.rc('ytick', labelsize=13)\n",
    "mpl.rc('xtick', labelsize=13)\n",
    "ax.set(ylim=(0,1))\n",
    "plt.xlabel('', fontdict= {'fontsize': 15})\n",
    "plt.ylabel('', fontdict= {'fontsize': 15})\n",
    "plt.title('Places with the least indirect competition', fontdict= {'fontsize': 15})\n"
   ]
  },
  {
   "cell_type": "code",
   "execution_count": 82,
   "metadata": {},
   "outputs": [
    {
     "data": {
      "text/plain": [
       "[(0.0, 1.0)]"
      ]
     },
     "execution_count": 82,
     "metadata": {},
     "output_type": "execute_result"
    },
    {
     "data": {
      "image/png": "[encoded data removed]",
      "text/plain": [
       "<Figure size 504x504 with 1 Axes>"
      ]
     },
     "metadata": {
      "needs_background": "light"
     },
     "output_type": "display_data"
    }
   ],
   "source": [
    "#Plot normalized Tourism scores for the top 5 cities.\n",
    "\n",
    "plt.figure(figsize = (7,7)) \n",
    "ax= sns.barplot(x= 'Municipalities', y= 'TourismIndexCorr',  data= selection)\n",
    "\n",
    "\n",
    "#plt.title('Suitability scores for opening a vegetarian or vegan restaurant', fontdict= {'fontsize': 20}) # add title to the plot \n",
    "mpl.rc('ytick', labelsize=13)\n",
    "mpl.rc('xtick', labelsize=13)\n",
    "plt.xlabel('', fontdict= {'fontsize': 15})\n",
    "plt.ylabel('', fontdict= {'fontsize': 15})\n",
    "plt.title('Tourism Index', fontdict= {'fontsize': 15})\n",
    "ax.set(ylim=(0,1))\n",
    "\n",
    "\n"
   ]
  },
  {
   "cell_type": "code",
   "execution_count": 83,
   "metadata": {},
   "outputs": [
    {
     "data": {
      "text/plain": [
       "[(0.0, 1.0)]"
      ]
     },
     "execution_count": 83,
     "metadata": {},
     "output_type": "execute_result"
    },
    {
     "data": {
      "image/png": "[encoded data removed]",
      "text/plain": [
       "<Figure size 504x504 with 1 Axes>"
      ]
     },
     "metadata": {
      "needs_background": "light"
     },
     "output_type": "display_data"
    }
   ],
   "source": [
    "#Plot normalized Eductaion scores for the top 5 cities.\n",
    "\n",
    "plt.figure(figsize = (7,7)) \n",
    "ax= sns.barplot(x= 'Municipalities', y= 'HigherEdu',  data= selection)\n",
    "\n",
    "\n",
    "#plt.title('Suitability scores for opening a vegetarian or vegan restaurant', fontdict= {'fontsize': 20}) # add title to the plot \n",
    "mpl.rc('ytick', labelsize=13)\n",
    "mpl.rc('xtick', labelsize=13)\n",
    "plt.xlabel('', fontdict= {'fontsize': 15})\n",
    "plt.ylabel('', fontdict= {'fontsize': 15})\n",
    "plt.title('Higher Education', fontdict= {'fontsize': 15})\n",
    "ax.set(ylim=(0,1))"
   ]
  },
  {
   "cell_type": "code",
   "execution_count": null,
   "metadata": {},
   "outputs": [],
   "source": []
  }
 ],
 "metadata": {
  "kernelspec": {
   "display_name": "Python 3",
   "language": "python",
   "name": "python3"
  },
  "language_info": {
   "codemirror_mode": {
    "name": "ipython",
    "version": 3
   },
   "file_extension": ".py",
   "mimetype": "text/x-python",
   "name": "python",
   "nbconvert_exporter": "python",
   "pygments_lexer": "ipython3",
   "version": "3.8.5"
  }
 },
 "nbformat": 4,
 "nbformat_minor": 4
}
